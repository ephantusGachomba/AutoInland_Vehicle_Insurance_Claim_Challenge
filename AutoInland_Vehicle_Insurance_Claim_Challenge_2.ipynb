{
  "nbformat": 4,
  "nbformat_minor": 0,
  "metadata": {
    "colab": {
      "name": "AutoInland_Vehicle_Insurance_Claim_Challenge_2.ipynb",
      "provenance": [],
      "collapsed_sections": [],
      "include_colab_link": true
    },
    "kernelspec": {
      "display_name": "Python 3",
      "language": "python",
      "name": "python3"
    },
    "language_info": {
      "codemirror_mode": {
        "name": "ipython",
        "version": 3
      },
      "file_extension": ".py",
      "mimetype": "text/x-python",
      "name": "python",
      "nbconvert_exporter": "python",
      "pygments_lexer": "ipython3",
      "version": "3.8.5"
    }
  },
  "cells": [
    {
      "cell_type": "markdown",
      "metadata": {
        "id": "view-in-github",
        "colab_type": "text"
      },
      "source": [
        "<a href=\"https://colab.research.google.com/github/ephantusGachomba/AutoInland_Vehicle_Insurance_Claim_Challenge/blob/main/AutoInland_Vehicle_Insurance_Claim_Challenge_2.ipynb\" target=\"_parent\"><img src=\"https://colab.research.google.com/assets/colab-badge.svg\" alt=\"Open In Colab\"/></a>"
      ]
    },
    {
      "cell_type": "markdown",
      "metadata": {
        "id": "hzVhwHpieWPk"
      },
      "source": [
        "# Step 1 - Preliminaries"
      ]
    },
    {
      "cell_type": "markdown",
      "metadata": {
        "id": "YKzCNXbOehFt"
      },
      "source": [
        "## Imports and Configuration"
      ]
    },
    {
      "cell_type": "code",
      "metadata": {
        "id": "pnXDucOg8QnY"
      },
      "source": [
        "#Basic libraries\n",
        "import pandas as pd\n",
        "import numpy as np\n",
        "import matplotlib.pyplot as plt\n",
        "import seaborn as sns\n",
        "\n",
        "#Handling missing values\n",
        "from sklearn.impute import SimpleImputer\n",
        "\n",
        "#Normalization and Standardization\n",
        "from sklearn.preprocessing import StandardScaler, MinMaxScaler\n",
        "from sklearn.decomposition import PCA \n",
        "\n",
        "#Feature \n",
        "from sklearn.linear_model import Lasso\n",
        "\n",
        "#Onehot encoding\n",
        "from sklearn.preprocessing import OneHotEncoder\n",
        "\n",
        "#Grid search cv\n",
        "from sklearn.model_selection import GridSearchCV\n",
        "\n",
        "#Models\n",
        "from lightgbm import LGBMClassifier\n",
        "from sklearn.tree import DecisionTreeClassifier\n",
        "from sklearn.ensemble import RandomForestClassifier, AdaBoostClassifier\n",
        "from sklearn.svm import SVC\n",
        "from sklearn.linear_model import LinearRegression, LogisticRegressionCV, ElasticNet\n",
        "from sklearn.preprocessing import PolynomialFeatures\n",
        "from sklearn.neural_network import MLPClassifier\n",
        "\n",
        "#metrics\n",
        "from sklearn.metrics import f1_score, mean_squared_error, accuracy_score, confusion_matrix\n",
        "\n",
        "import warnings\n",
        "warnings.filterwarnings('ignore')"
      ],
      "execution_count": null,
      "outputs": []
    },
    {
      "cell_type": "markdown",
      "metadata": {
        "id": "DrpNlprq8XVY"
      },
      "source": [
        "# Reading Files"
      ]
    },
    {
      "cell_type": "code",
      "metadata": {
        "id": "NtjVWPZm8aDu"
      },
      "source": [
        "#Load data into pandas dataframe\n",
        "train = pd.read_csv(\"Train.csv\")\n",
        "test = pd.read_csv(\"Test.csv\")\n",
        "ss = pd.read_csv(\"SampleSubmission.csv\")"
      ],
      "execution_count": null,
      "outputs": []
    },
    {
      "cell_type": "code",
      "metadata": {
        "colab": {
          "base_uri": "https://localhost:8080/",
          "height": 343
        },
        "id": "HyVe5ATl8mIk",
        "outputId": "1b56064a-bc4c-47e5-fafd-a10d889dea46"
      },
      "source": [
        "# Preview the first five rows of the train set\n",
        "train.head()"
      ],
      "execution_count": null,
      "outputs": [
        {
          "output_type": "execute_result",
          "data": {
            "text/html": [
              "<div>\n",
              "<style scoped>\n",
              "    .dataframe tbody tr th:only-of-type {\n",
              "        vertical-align: middle;\n",
              "    }\n",
              "\n",
              "    .dataframe tbody tr th {\n",
              "        vertical-align: top;\n",
              "    }\n",
              "\n",
              "    .dataframe thead th {\n",
              "        text-align: right;\n",
              "    }\n",
              "</style>\n",
              "<table border=\"1\" class=\"dataframe\">\n",
              "  <thead>\n",
              "    <tr style=\"text-align: right;\">\n",
              "      <th></th>\n",
              "      <th>ID</th>\n",
              "      <th>Policy Start Date</th>\n",
              "      <th>Policy End Date</th>\n",
              "      <th>Gender</th>\n",
              "      <th>Age</th>\n",
              "      <th>First Transaction Date</th>\n",
              "      <th>No_Pol</th>\n",
              "      <th>Car_Category</th>\n",
              "      <th>Subject_Car_Colour</th>\n",
              "      <th>Subject_Car_Make</th>\n",
              "      <th>LGA_Name</th>\n",
              "      <th>State</th>\n",
              "      <th>ProductName</th>\n",
              "      <th>target</th>\n",
              "    </tr>\n",
              "  </thead>\n",
              "  <tbody>\n",
              "    <tr>\n",
              "      <th>0</th>\n",
              "      <td>ID_0040R73</td>\n",
              "      <td>2010-05-14</td>\n",
              "      <td>2011-05-13</td>\n",
              "      <td>Male</td>\n",
              "      <td>30</td>\n",
              "      <td>2010-05-14</td>\n",
              "      <td>1</td>\n",
              "      <td>Saloon</td>\n",
              "      <td>Black</td>\n",
              "      <td>TOYOTA</td>\n",
              "      <td>NaN</td>\n",
              "      <td>NaN</td>\n",
              "      <td>Car Classic</td>\n",
              "      <td>0</td>\n",
              "    </tr>\n",
              "    <tr>\n",
              "      <th>1</th>\n",
              "      <td>ID_0046BNK</td>\n",
              "      <td>2010-11-29</td>\n",
              "      <td>2011-11-28</td>\n",
              "      <td>Female</td>\n",
              "      <td>79</td>\n",
              "      <td>2010-11-29</td>\n",
              "      <td>1</td>\n",
              "      <td>JEEP</td>\n",
              "      <td>Grey</td>\n",
              "      <td>TOYOTA</td>\n",
              "      <td>NaN</td>\n",
              "      <td>NaN</td>\n",
              "      <td>Car Classic</td>\n",
              "      <td>1</td>\n",
              "    </tr>\n",
              "    <tr>\n",
              "      <th>2</th>\n",
              "      <td>ID_005QMC3</td>\n",
              "      <td>2010-03-21</td>\n",
              "      <td>2011-03-20</td>\n",
              "      <td>Male</td>\n",
              "      <td>43</td>\n",
              "      <td>2010-03-21</td>\n",
              "      <td>1</td>\n",
              "      <td>Saloon</td>\n",
              "      <td>Red</td>\n",
              "      <td>TOYOTA</td>\n",
              "      <td>NaN</td>\n",
              "      <td>NaN</td>\n",
              "      <td>Car Classic</td>\n",
              "      <td>0</td>\n",
              "    </tr>\n",
              "    <tr>\n",
              "      <th>3</th>\n",
              "      <td>ID_0079OHW</td>\n",
              "      <td>2010-08-21</td>\n",
              "      <td>2011-08-20</td>\n",
              "      <td>Male</td>\n",
              "      <td>2</td>\n",
              "      <td>2010-08-21</td>\n",
              "      <td>1</td>\n",
              "      <td>NaN</td>\n",
              "      <td>NaN</td>\n",
              "      <td>NaN</td>\n",
              "      <td>NaN</td>\n",
              "      <td>NaN</td>\n",
              "      <td>CarSafe</td>\n",
              "      <td>0</td>\n",
              "    </tr>\n",
              "    <tr>\n",
              "      <th>4</th>\n",
              "      <td>ID_00BRP63</td>\n",
              "      <td>2010-08-29</td>\n",
              "      <td>2010-12-31</td>\n",
              "      <td>Entity</td>\n",
              "      <td>20</td>\n",
              "      <td>2010-08-29</td>\n",
              "      <td>3</td>\n",
              "      <td>NaN</td>\n",
              "      <td>NaN</td>\n",
              "      <td>NaN</td>\n",
              "      <td>Lagos</td>\n",
              "      <td>Lagos</td>\n",
              "      <td>Muuve</td>\n",
              "      <td>1</td>\n",
              "    </tr>\n",
              "  </tbody>\n",
              "</table>\n",
              "</div>"
            ],
            "text/plain": [
              "           ID Policy Start Date Policy End Date  ...  State  ProductName target\n",
              "0  ID_0040R73        2010-05-14      2011-05-13  ...    NaN  Car Classic      0\n",
              "1  ID_0046BNK        2010-11-29      2011-11-28  ...    NaN  Car Classic      1\n",
              "2  ID_005QMC3        2010-03-21      2011-03-20  ...    NaN  Car Classic      0\n",
              "3  ID_0079OHW        2010-08-21      2011-08-20  ...    NaN      CarSafe      0\n",
              "4  ID_00BRP63        2010-08-29      2010-12-31  ...  Lagos        Muuve      1\n",
              "\n",
              "[5 rows x 14 columns]"
            ]
          },
          "metadata": {
            "tags": []
          },
          "execution_count": 3
        }
      ]
    },
    {
      "cell_type": "code",
      "metadata": {
        "colab": {
          "base_uri": "https://localhost:8080/",
          "height": 343
        },
        "id": "aUpWvm8N8pWV",
        "outputId": "a66bf9e2-a154-4c48-bf9f-c041337ae329"
      },
      "source": [
        "# Preview the first five rows of the test set\n",
        "test.head()"
      ],
      "execution_count": null,
      "outputs": [
        {
          "output_type": "execute_result",
          "data": {
            "text/html": [
              "<div>\n",
              "<style scoped>\n",
              "    .dataframe tbody tr th:only-of-type {\n",
              "        vertical-align: middle;\n",
              "    }\n",
              "\n",
              "    .dataframe tbody tr th {\n",
              "        vertical-align: top;\n",
              "    }\n",
              "\n",
              "    .dataframe thead th {\n",
              "        text-align: right;\n",
              "    }\n",
              "</style>\n",
              "<table border=\"1\" class=\"dataframe\">\n",
              "  <thead>\n",
              "    <tr style=\"text-align: right;\">\n",
              "      <th></th>\n",
              "      <th>ID</th>\n",
              "      <th>Policy Start Date</th>\n",
              "      <th>Policy End Date</th>\n",
              "      <th>Gender</th>\n",
              "      <th>Age</th>\n",
              "      <th>First Transaction Date</th>\n",
              "      <th>No_Pol</th>\n",
              "      <th>Car_Category</th>\n",
              "      <th>Subject_Car_Colour</th>\n",
              "      <th>Subject_Car_Make</th>\n",
              "      <th>LGA_Name</th>\n",
              "      <th>State</th>\n",
              "      <th>ProductName</th>\n",
              "    </tr>\n",
              "  </thead>\n",
              "  <tbody>\n",
              "    <tr>\n",
              "      <th>0</th>\n",
              "      <td>ID_01QM0NU</td>\n",
              "      <td>2010-10-23</td>\n",
              "      <td>2011-10-22</td>\n",
              "      <td>Female</td>\n",
              "      <td>46</td>\n",
              "      <td>2010-10-23</td>\n",
              "      <td>1</td>\n",
              "      <td>NaN</td>\n",
              "      <td>NaN</td>\n",
              "      <td>Ford</td>\n",
              "      <td>Abuja Municipal</td>\n",
              "      <td>Abuja-Municipal</td>\n",
              "      <td>Car Classic</td>\n",
              "    </tr>\n",
              "    <tr>\n",
              "      <th>1</th>\n",
              "      <td>ID_024NJLZ</td>\n",
              "      <td>2010-10-14</td>\n",
              "      <td>2011-10-13</td>\n",
              "      <td>Male</td>\n",
              "      <td>32</td>\n",
              "      <td>2010-10-14</td>\n",
              "      <td>1</td>\n",
              "      <td>NaN</td>\n",
              "      <td>NaN</td>\n",
              "      <td>NaN</td>\n",
              "      <td>Kosofe</td>\n",
              "      <td>Benue</td>\n",
              "      <td>Car Classic</td>\n",
              "    </tr>\n",
              "    <tr>\n",
              "      <th>2</th>\n",
              "      <td>ID_02NOVWQ</td>\n",
              "      <td>2010-08-29</td>\n",
              "      <td>2011-08-28</td>\n",
              "      <td>Female</td>\n",
              "      <td>45</td>\n",
              "      <td>2010-08-29</td>\n",
              "      <td>2</td>\n",
              "      <td>Saloon</td>\n",
              "      <td>Black</td>\n",
              "      <td>Honda</td>\n",
              "      <td>Wuse 11</td>\n",
              "      <td>Abuja</td>\n",
              "      <td>Car Classic</td>\n",
              "    </tr>\n",
              "    <tr>\n",
              "      <th>3</th>\n",
              "      <td>ID_02VSP68</td>\n",
              "      <td>2010-06-13</td>\n",
              "      <td>2011-06-12</td>\n",
              "      <td>Female</td>\n",
              "      <td>58</td>\n",
              "      <td>2010-06-13</td>\n",
              "      <td>1</td>\n",
              "      <td>Saloon</td>\n",
              "      <td>NaN</td>\n",
              "      <td>TOYOTA</td>\n",
              "      <td>NaN</td>\n",
              "      <td>NaN</td>\n",
              "      <td>CarSafe</td>\n",
              "    </tr>\n",
              "    <tr>\n",
              "      <th>4</th>\n",
              "      <td>ID_02YB37K</td>\n",
              "      <td>2010-07-01</td>\n",
              "      <td>2011-06-30</td>\n",
              "      <td>NaN</td>\n",
              "      <td>120</td>\n",
              "      <td>2010-07-01</td>\n",
              "      <td>1</td>\n",
              "      <td>Saloon</td>\n",
              "      <td>Red</td>\n",
              "      <td>Hyundai</td>\n",
              "      <td>Victoria Island</td>\n",
              "      <td>Lagos</td>\n",
              "      <td>Car Classic</td>\n",
              "    </tr>\n",
              "  </tbody>\n",
              "</table>\n",
              "</div>"
            ],
            "text/plain": [
              "           ID Policy Start Date  ...            State  ProductName\n",
              "0  ID_01QM0NU        2010-10-23  ...  Abuja-Municipal  Car Classic\n",
              "1  ID_024NJLZ        2010-10-14  ...            Benue  Car Classic\n",
              "2  ID_02NOVWQ        2010-08-29  ...            Abuja  Car Classic\n",
              "3  ID_02VSP68        2010-06-13  ...              NaN      CarSafe\n",
              "4  ID_02YB37K        2010-07-01  ...            Lagos  Car Classic\n",
              "\n",
              "[5 rows x 13 columns]"
            ]
          },
          "metadata": {
            "tags": []
          },
          "execution_count": 4
        }
      ]
    },
    {
      "cell_type": "code",
      "metadata": {
        "colab": {
          "base_uri": "https://localhost:8080/",
          "height": 204
        },
        "id": "3dnISd038rSh",
        "outputId": "3be10406-6cbf-4603-8bea-47910656749c"
      },
      "source": [
        "# Preview the first five rows of the sample submission file\n",
        "ss.head()"
      ],
      "execution_count": null,
      "outputs": [
        {
          "output_type": "execute_result",
          "data": {
            "text/html": [
              "<div>\n",
              "<style scoped>\n",
              "    .dataframe tbody tr th:only-of-type {\n",
              "        vertical-align: middle;\n",
              "    }\n",
              "\n",
              "    .dataframe tbody tr th {\n",
              "        vertical-align: top;\n",
              "    }\n",
              "\n",
              "    .dataframe thead th {\n",
              "        text-align: right;\n",
              "    }\n",
              "</style>\n",
              "<table border=\"1\" class=\"dataframe\">\n",
              "  <thead>\n",
              "    <tr style=\"text-align: right;\">\n",
              "      <th></th>\n",
              "      <th>ID</th>\n",
              "      <th>target</th>\n",
              "    </tr>\n",
              "  </thead>\n",
              "  <tbody>\n",
              "    <tr>\n",
              "      <th>0</th>\n",
              "      <td>ID_01QM0NU</td>\n",
              "      <td>0</td>\n",
              "    </tr>\n",
              "    <tr>\n",
              "      <th>1</th>\n",
              "      <td>ID_024NJLZ</td>\n",
              "      <td>0</td>\n",
              "    </tr>\n",
              "    <tr>\n",
              "      <th>2</th>\n",
              "      <td>ID_02NOVWQ</td>\n",
              "      <td>0</td>\n",
              "    </tr>\n",
              "    <tr>\n",
              "      <th>3</th>\n",
              "      <td>ID_02VSP68</td>\n",
              "      <td>0</td>\n",
              "    </tr>\n",
              "    <tr>\n",
              "      <th>4</th>\n",
              "      <td>ID_02YB37K</td>\n",
              "      <td>0</td>\n",
              "    </tr>\n",
              "  </tbody>\n",
              "</table>\n",
              "</div>"
            ],
            "text/plain": [
              "           ID  target\n",
              "0  ID_01QM0NU       0\n",
              "1  ID_024NJLZ       0\n",
              "2  ID_02NOVWQ       0\n",
              "3  ID_02VSP68       0\n",
              "4  ID_02YB37K       0"
            ]
          },
          "metadata": {
            "tags": []
          },
          "execution_count": 5
        }
      ]
    },
    {
      "cell_type": "code",
      "metadata": {
        "colab": {
          "base_uri": "https://localhost:8080/"
        },
        "id": "sUixycai83VZ",
        "outputId": "3e903b27-5799-4dd7-9617-33b6471ecd4c"
      },
      "source": [
        "# Check the shape of the train and test sets\n",
        "print(f'The shape of the train set is: {train.shape}\\nThe shape of the test set is: {test.shape}')"
      ],
      "execution_count": null,
      "outputs": [
        {
          "output_type": "stream",
          "text": [
            "The shape of the train set is: (12079, 14)\n",
            "The shape of the test set is: (1202, 13)\n"
          ],
          "name": "stdout"
        }
      ]
    },
    {
      "cell_type": "markdown",
      "metadata": {
        "id": "CnHL_f3Ee1jj"
      },
      "source": [
        "## Data Preprocessing"
      ]
    },
    {
      "cell_type": "code",
      "metadata": {
        "colab": {
          "base_uri": "https://localhost:8080/"
        },
        "id": "NfsfR75R9HcW",
        "outputId": "3a87c068-cb27-41fd-fcfe-85d8346fbd0c"
      },
      "source": [
        "#Combine train and test dataset\n",
        "ntrain = train.shape[0] # to be used to split train and test set from the combined dataframe\n",
        "\n",
        "all_data = pd.concat((train, test)).reset_index(drop=True)\n",
        "print(f'The shape of the combined dataframe is: {all_data.shape}')"
      ],
      "execution_count": null,
      "outputs": [
        {
          "output_type": "stream",
          "text": [
            "The shape of the combined dataframe is: (13281, 14)\n"
          ],
          "name": "stdout"
        }
      ]
    },
    {
      "cell_type": "code",
      "metadata": {
        "colab": {
          "base_uri": "https://localhost:8080/"
        },
        "id": "0nD-IDtw98Q9",
        "outputId": "e90c04be-d911-46d5-9b2c-67961db09cab"
      },
      "source": [
        "print(train.shape)\n",
        "print(test.shape)"
      ],
      "execution_count": null,
      "outputs": [
        {
          "output_type": "stream",
          "text": [
            "(12079, 14)\n",
            "(1202, 13)\n"
          ],
          "name": "stdout"
        }
      ]
    },
    {
      "cell_type": "markdown",
      "metadata": {
        "id": "C213Njq3hIb8"
      },
      "source": [
        "### Clean Data"
      ]
    },
    {
      "cell_type": "code",
      "metadata": {
        "colab": {
          "base_uri": "https://localhost:8080/"
        },
        "id": "S5HVXqhC92k8",
        "outputId": "31705860-4fd6-4524-9162-3884e177b596"
      },
      "source": [
        "# Check the column names and datatypes\n",
        "all_data.info()"
      ],
      "execution_count": null,
      "outputs": [
        {
          "output_type": "stream",
          "text": [
            "<class 'pandas.core.frame.DataFrame'>\n",
            "RangeIndex: 13281 entries, 0 to 13280\n",
            "Data columns (total 14 columns):\n",
            " #   Column                  Non-Null Count  Dtype  \n",
            "---  ------                  --------------  -----  \n",
            " 0   ID                      13281 non-null  object \n",
            " 1   Policy Start Date       13281 non-null  object \n",
            " 2   Policy End Date         13281 non-null  object \n",
            " 3   Gender                  12881 non-null  object \n",
            " 4   Age                     13281 non-null  int64  \n",
            " 5   First Transaction Date  13281 non-null  object \n",
            " 6   No_Pol                  13281 non-null  int64  \n",
            " 7   Car_Category            9171 non-null   object \n",
            " 8   Subject_Car_Colour      5622 non-null   object \n",
            " 9   Subject_Car_Make        10557 non-null  object \n",
            " 10  LGA_Name                6149 non-null   object \n",
            " 11  State                   6137 non-null   object \n",
            " 12  ProductName             13281 non-null  object \n",
            " 13  target                  12079 non-null  float64\n",
            "dtypes: float64(1), int64(2), object(11)\n",
            "memory usage: 1.4+ MB\n"
          ],
          "name": "stdout"
        }
      ]
    },
    {
      "cell_type": "code",
      "metadata": {
        "colab": {
          "base_uri": "https://localhost:8080/"
        },
        "id": "5QSkD0Hu92cV",
        "scrolled": true,
        "outputId": "ea5c6c7a-3b64-46f5-f7e1-162cad36d89d"
      },
      "source": [
        "#Changing each column to appropriate datatype\n",
        "date_cols = [col for col in all_data.columns if 'Date' in col]\n",
        "num_cols = ['Age', 'No_Pol']\n",
        "cat_cols = [col for col in all_data.columns if col not in date_cols+num_cols+['ID','target']]\n",
        "\n",
        "for col in all_data.columns:\n",
        "  if col in date_cols:\n",
        "    all_data[col] = pd.to_datetime(all_data[col])\n",
        "  elif col in cat_cols:\n",
        "    all_data[col] = all_data[col].astype('category')\n",
        "\n",
        "#Confirming wether the changes have been applied\n",
        "all_data.info()"
      ],
      "execution_count": null,
      "outputs": [
        {
          "output_type": "stream",
          "text": [
            "<class 'pandas.core.frame.DataFrame'>\n",
            "RangeIndex: 13281 entries, 0 to 13280\n",
            "Data columns (total 14 columns):\n",
            " #   Column                  Non-Null Count  Dtype         \n",
            "---  ------                  --------------  -----         \n",
            " 0   ID                      13281 non-null  object        \n",
            " 1   Policy Start Date       13281 non-null  datetime64[ns]\n",
            " 2   Policy End Date         13281 non-null  datetime64[ns]\n",
            " 3   Gender                  12881 non-null  category      \n",
            " 4   Age                     13281 non-null  int64         \n",
            " 5   First Transaction Date  13281 non-null  datetime64[ns]\n",
            " 6   No_Pol                  13281 non-null  int64         \n",
            " 7   Car_Category            9171 non-null   category      \n",
            " 8   Subject_Car_Colour      5622 non-null   category      \n",
            " 9   Subject_Car_Make        10557 non-null  category      \n",
            " 10  LGA_Name                6149 non-null   category      \n",
            " 11  State                   6137 non-null   category      \n",
            " 12  ProductName             13281 non-null  category      \n",
            " 13  target                  12079 non-null  float64       \n",
            "dtypes: category(7), datetime64[ns](3), float64(1), int64(2), object(1)\n",
            "memory usage: 854.4+ KB\n"
          ],
          "name": "stdout"
        }
      ]
    },
    {
      "cell_type": "code",
      "metadata": {
        "colab": {
          "base_uri": "https://localhost:8080/"
        },
        "id": "YzItNuax-NTk",
        "outputId": "68ef8cfd-0fa0-475f-a3e7-a883a654ddf1"
      },
      "source": [
        "mapper = {'Entity':'Other', 'Joint Gender':'Other', 'NOT STATED':'Other', 'NO GENDER': 'Other', 'SEX':\"Other\"}\n",
        "all_data.Gender = all_data.Gender.replace(mapper)\n",
        "\n",
        "#Confirm mappings\n",
        "all_data.Gender.value_counts()"
      ],
      "execution_count": null,
      "outputs": [
        {
          "output_type": "execute_result",
          "data": {
            "text/plain": [
              "Male      8356\n",
              "Female    3679\n",
              "Other      846\n",
              "Name: Gender, dtype: int64"
            ]
          },
          "metadata": {
            "tags": []
          },
          "execution_count": 11
        }
      ]
    },
    {
      "cell_type": "code",
      "metadata": {
        "scrolled": true,
        "colab": {
          "base_uri": "https://localhost:8080/"
        },
        "id": "hEe7rOeZ-NTm",
        "outputId": "bb2f8abf-4bf9-44e9-a30b-51687bd39b7b"
      },
      "source": [
        "for col in all_data[cat_cols]:\n",
        "  print(f'{col}')\n",
        "  print(all_data[col].nunique())\n",
        "  print(all_data[col].unique())"
      ],
      "execution_count": null,
      "outputs": [
        {
          "output_type": "stream",
          "text": [
            "Gender\n",
            "3\n",
            "['Male' 'Female' 'Other' nan]\n",
            "Car_Category\n",
            "16\n",
            "['Saloon', 'JEEP', NaN, 'Motorcycle', 'Truck', ..., 'Wagon', 'Shape Of Vehicle Chasis', 'Sedan', 'Station 4 Wheel', 'Tipper Truck']\n",
            "Length: 17\n",
            "Categories (16, object): ['Saloon', 'JEEP', 'Motorcycle', 'Truck', ..., 'Shape Of Vehicle Chasis',\n",
            "                          'Sedan', 'Station 4 Wheel', 'Tipper Truck']\n",
            "Subject_Car_Colour\n",
            "46\n",
            "['Black', 'Grey', 'Red', NaN, 'As Attached', ..., 'Yellow & White', 'Beige Mitalic', 'Light Gray', 'Blue Sky', 'Red Maroon']\n",
            "Length: 47\n",
            "Categories (46, object): ['Black', 'Grey', 'Red', 'As Attached', ..., 'Beige Mitalic',\n",
            "                          'Light Gray', 'Blue Sky', 'Red Maroon']\n",
            "Subject_Car_Make\n",
            "75\n",
            "['TOYOTA', NaN, 'REXTON', 'Lexus', 'Hyundai', ..., 'BRILLIANCE', 'Buik', 'COMMANDER', 'Bajaj', 'Datsun']\n",
            "Length: 76\n",
            "Categories (75, object): ['TOYOTA', 'REXTON', 'Lexus', 'Hyundai', ..., 'Buik', 'COMMANDER', 'Bajaj',\n",
            "                          'Datsun']\n",
            "LGA_Name\n",
            "270\n",
            "[NaN, 'Lagos', 'Ikeja', 'Badagry', 'Eti-Osa', ..., 'Hong', 'Ifako-Agege', 'Benue', 'Okpokwu', 'Ngor-Okpala']\n",
            "Length: 271\n",
            "Categories (270, object): ['Lagos', 'Ikeja', 'Badagry', 'Eti-Osa', ..., 'Ifako-Agege', 'Benue',\n",
            "                           'Okpokwu', 'Ngor-Okpala']\n",
            "State\n",
            "113\n",
            "[NaN, 'Lagos', 'Benue', 'Eti-Osa', 'Delta', ..., 'ENUGU-SOUTH', 'Ijebu-North', 'Asari-Toru', 'Idemili-south', 'Ngor-Okpala']\n",
            "Length: 114\n",
            "Categories (113, object): ['Lagos', 'Benue', 'Eti-Osa', 'Delta', ..., 'Ijebu-North', 'Asari-Toru',\n",
            "                           'Idemili-south', 'Ngor-Okpala']\n",
            "ProductName\n",
            "9\n",
            "['Car Classic', 'CarSafe', 'Muuve', 'CVTP', 'Car Plus', 'Motor Cycle', 'Customized Motor', 'CarFlex', 'Car Vintage']\n",
            "Categories (9, object): ['Car Classic', 'CarSafe', 'Muuve', 'CVTP', ..., 'Motor Cycle',\n",
            "                         'Customized Motor', 'CarFlex', 'Car Vintage']\n"
          ],
          "name": "stdout"
        }
      ]
    },
    {
      "cell_type": "code",
      "metadata": {
        "scrolled": true,
        "colab": {
          "base_uri": "https://localhost:8080/"
        },
        "id": "TZ6GpkdH-NTm",
        "outputId": "d715c7ee-51e6-446a-fc25-fa52b972ad59"
      },
      "source": [
        "all_data['Subject_Car_Make'].value_counts().sort_values(ascending=True).head(60)"
      ],
      "execution_count": null,
      "outputs": [
        {
          "output_type": "execute_result",
          "data": {
            "text/plain": [
              "Jincheng           1\n",
              "BRILLIANCE         1\n",
              "ABG                1\n",
              "Bajaj              1\n",
              "COMMANDER          1\n",
              "CHANGAN            1\n",
              "Ashok Leyland      1\n",
              "ZOYTE              1\n",
              "Caddillac          1\n",
              "Datsun             1\n",
              "Buik               1\n",
              "Howo               1\n",
              "Geely              1\n",
              "Rols Royce         1\n",
              "Raston             1\n",
              "REXTON             1\n",
              "Tata               1\n",
              "MG                 1\n",
              "Lincoln            1\n",
              "KA                 1\n",
              "Yamaha             1\n",
              "Motorcycle         1\n",
              "Seat               2\n",
              "Wrangler Jeep      2\n",
              "Chrysler           2\n",
              "Astra              2\n",
              "FOTON              2\n",
              "Innson             2\n",
              "Black              2\n",
              "Hummer             2\n",
              "Fiat               2\n",
              "Grand Cherokee     2\n",
              "Jaguar             4\n",
              "LIBERTY            5\n",
              "Man                5\n",
              "MINI COOPER        5\n",
              "GAC                5\n",
              "Renault            6\n",
              "Subaru             6\n",
              "Land Rover.        6\n",
              "GMC                6\n",
              "Dodge              7\n",
              "Isuzu              8\n",
              "Opel               8\n",
              "Suzuki             9\n",
              "Scania            12\n",
              "As Attached       14\n",
              "Porsche           16\n",
              "Jeep              17\n",
              "Skoda             18\n",
              "DAF               21\n",
              "Chevrolet         26\n",
              "Pontiac           29\n",
              "Infiniti          30\n",
              "Audi              33\n",
              "Mack              35\n",
              "Volvo             43\n",
              "Peugeot           47\n",
              ".                 47\n",
              "Mazda             47\n",
              "Name: Subject_Car_Make, dtype: int64"
            ]
          },
          "metadata": {
            "tags": []
          },
          "execution_count": 13
        }
      ]
    },
    {
      "cell_type": "code",
      "metadata": {
        "id": "hmLAJhrw-NTn"
      },
      "source": [
        "all_data['Subject_Car_Make'].replace({'.':np.nan}, inplace=True)"
      ],
      "execution_count": null,
      "outputs": []
    },
    {
      "cell_type": "code",
      "metadata": {
        "id": "eOuHeG9D-NTn"
      },
      "source": [
        "all_data['Subject_Car_Make'].replace({'As Attached':np.nan}, inplace=True)"
      ],
      "execution_count": null,
      "outputs": []
    },
    {
      "cell_type": "code",
      "metadata": {
        "scrolled": true,
        "colab": {
          "base_uri": "https://localhost:8080/"
        },
        "id": "YD-gtBSv-NTo",
        "outputId": "cb97f317-8652-4e52-b59b-b5cef7095d80"
      },
      "source": [
        "all_data.isnull().sum()"
      ],
      "execution_count": null,
      "outputs": [
        {
          "output_type": "execute_result",
          "data": {
            "text/plain": [
              "ID                           0\n",
              "Policy Start Date            0\n",
              "Policy End Date              0\n",
              "Gender                     400\n",
              "Age                          0\n",
              "First Transaction Date       0\n",
              "No_Pol                       0\n",
              "Car_Category              4110\n",
              "Subject_Car_Colour        7659\n",
              "Subject_Car_Make          2785\n",
              "LGA_Name                  7132\n",
              "State                     7144\n",
              "ProductName                  0\n",
              "target                    1202\n",
              "dtype: int64"
            ]
          },
          "metadata": {
            "tags": []
          },
          "execution_count": 16
        }
      ]
    },
    {
      "cell_type": "markdown",
      "metadata": {
        "id": "74nGnjAp-NTq"
      },
      "source": [
        "## Handle Missing Values"
      ]
    },
    {
      "cell_type": "code",
      "metadata": {
        "scrolled": true,
        "colab": {
          "base_uri": "https://localhost:8080/"
        },
        "id": "qS89NBlo-NTq",
        "outputId": "89febc53-7364-490c-f034-962163c22701"
      },
      "source": [
        "all_data.info()"
      ],
      "execution_count": null,
      "outputs": [
        {
          "output_type": "stream",
          "text": [
            "<class 'pandas.core.frame.DataFrame'>\n",
            "RangeIndex: 13281 entries, 0 to 13280\n",
            "Data columns (total 14 columns):\n",
            " #   Column                  Non-Null Count  Dtype         \n",
            "---  ------                  --------------  -----         \n",
            " 0   ID                      13281 non-null  object        \n",
            " 1   Policy Start Date       13281 non-null  datetime64[ns]\n",
            " 2   Policy End Date         13281 non-null  datetime64[ns]\n",
            " 3   Gender                  12881 non-null  object        \n",
            " 4   Age                     13281 non-null  int64         \n",
            " 5   First Transaction Date  13281 non-null  datetime64[ns]\n",
            " 6   No_Pol                  13281 non-null  int64         \n",
            " 7   Car_Category            9171 non-null   category      \n",
            " 8   Subject_Car_Colour      5622 non-null   category      \n",
            " 9   Subject_Car_Make        10496 non-null  object        \n",
            " 10  LGA_Name                6149 non-null   category      \n",
            " 11  State                   6137 non-null   category      \n",
            " 12  ProductName             13281 non-null  category      \n",
            " 13  target                  12079 non-null  float64       \n",
            "dtypes: category(5), datetime64[ns](3), float64(1), int64(2), object(3)\n",
            "memory usage: 1.0+ MB\n"
          ],
          "name": "stdout"
        }
      ]
    },
    {
      "cell_type": "markdown",
      "metadata": {
        "id": "rztTKDaV-NTr"
      },
      "source": [
        "#### Cleaning the ages column"
      ]
    },
    {
      "cell_type": "code",
      "metadata": {
        "colab": {
          "base_uri": "https://localhost:8080/"
        },
        "id": "ut2fWbRf-NTs",
        "outputId": "5f8977c5-1032-426c-d75c-6f44a075f6ed"
      },
      "source": [
        "all_data['Age'].describe().transpose()"
      ],
      "execution_count": null,
      "outputs": [
        {
          "output_type": "execute_result",
          "data": {
            "text/plain": [
              "count    13281.000000\n",
              "mean        42.375574\n",
              "std         93.170951\n",
              "min      -6099.000000\n",
              "25%         35.000000\n",
              "50%         41.000000\n",
              "75%         50.000000\n",
              "max        320.000000\n",
              "Name: Age, dtype: float64"
            ]
          },
          "metadata": {
            "tags": []
          },
          "execution_count": 18
        }
      ]
    },
    {
      "cell_type": "code",
      "metadata": {
        "scrolled": true,
        "colab": {
          "base_uri": "https://localhost:8080/",
          "height": 984
        },
        "id": "uDhBlMP9-NTt",
        "outputId": "6fe21faf-15fd-4c85-b9b9-25030842bc5d"
      },
      "source": [
        "all_data[all_data['Age']<0]"
      ],
      "execution_count": null,
      "outputs": [
        {
          "output_type": "execute_result",
          "data": {
            "text/html": [
              "<div>\n",
              "<style scoped>\n",
              "    .dataframe tbody tr th:only-of-type {\n",
              "        vertical-align: middle;\n",
              "    }\n",
              "\n",
              "    .dataframe tbody tr th {\n",
              "        vertical-align: top;\n",
              "    }\n",
              "\n",
              "    .dataframe thead th {\n",
              "        text-align: right;\n",
              "    }\n",
              "</style>\n",
              "<table border=\"1\" class=\"dataframe\">\n",
              "  <thead>\n",
              "    <tr style=\"text-align: right;\">\n",
              "      <th></th>\n",
              "      <th>ID</th>\n",
              "      <th>Policy Start Date</th>\n",
              "      <th>Policy End Date</th>\n",
              "      <th>Gender</th>\n",
              "      <th>Age</th>\n",
              "      <th>First Transaction Date</th>\n",
              "      <th>No_Pol</th>\n",
              "      <th>Car_Category</th>\n",
              "      <th>Subject_Car_Colour</th>\n",
              "      <th>Subject_Car_Make</th>\n",
              "      <th>LGA_Name</th>\n",
              "      <th>State</th>\n",
              "      <th>ProductName</th>\n",
              "      <th>target</th>\n",
              "    </tr>\n",
              "  </thead>\n",
              "  <tbody>\n",
              "    <tr>\n",
              "      <th>909</th>\n",
              "      <td>ID_2SKRJKI</td>\n",
              "      <td>2010-04-30</td>\n",
              "      <td>2011-04-29</td>\n",
              "      <td>Female</td>\n",
              "      <td>-76</td>\n",
              "      <td>2010-04-30</td>\n",
              "      <td>2</td>\n",
              "      <td>NaN</td>\n",
              "      <td>White</td>\n",
              "      <td>Hyundai</td>\n",
              "      <td>Ilupeju</td>\n",
              "      <td>Lagos</td>\n",
              "      <td>CVTP</td>\n",
              "      <td>0.0</td>\n",
              "    </tr>\n",
              "    <tr>\n",
              "      <th>1226</th>\n",
              "      <td>ID_3QOZW9J</td>\n",
              "      <td>2010-03-15</td>\n",
              "      <td>2011-03-14</td>\n",
              "      <td>Male</td>\n",
              "      <td>-2</td>\n",
              "      <td>2010-03-15</td>\n",
              "      <td>1</td>\n",
              "      <td>Saloon</td>\n",
              "      <td>Black</td>\n",
              "      <td>TOYOTA</td>\n",
              "      <td>Ibadan South East</td>\n",
              "      <td>Ibadan-East</td>\n",
              "      <td>Customized Motor</td>\n",
              "      <td>0.0</td>\n",
              "    </tr>\n",
              "    <tr>\n",
              "      <th>2580</th>\n",
              "      <td>ID_7OMERTL</td>\n",
              "      <td>2010-04-23</td>\n",
              "      <td>2011-04-22</td>\n",
              "      <td>Male</td>\n",
              "      <td>-12</td>\n",
              "      <td>2010-04-23</td>\n",
              "      <td>3</td>\n",
              "      <td>Saloon</td>\n",
              "      <td>As Attached</td>\n",
              "      <td>Hyundai</td>\n",
              "      <td>Victoria Island</td>\n",
              "      <td>Lagos</td>\n",
              "      <td>Car Plus</td>\n",
              "      <td>0.0</td>\n",
              "    </tr>\n",
              "    <tr>\n",
              "      <th>3114</th>\n",
              "      <td>ID_98EVCPR</td>\n",
              "      <td>2010-06-26</td>\n",
              "      <td>2011-06-25</td>\n",
              "      <td>Female</td>\n",
              "      <td>-2</td>\n",
              "      <td>2010-06-26</td>\n",
              "      <td>1</td>\n",
              "      <td>JEEP</td>\n",
              "      <td>NaN</td>\n",
              "      <td>TOYOTA</td>\n",
              "      <td>NaN</td>\n",
              "      <td>NaN</td>\n",
              "      <td>Car Classic</td>\n",
              "      <td>0.0</td>\n",
              "    </tr>\n",
              "    <tr>\n",
              "      <th>3427</th>\n",
              "      <td>ID_A3YN75Z</td>\n",
              "      <td>2010-10-02</td>\n",
              "      <td>2011-10-01</td>\n",
              "      <td>Other</td>\n",
              "      <td>-6099</td>\n",
              "      <td>2010-10-02</td>\n",
              "      <td>1</td>\n",
              "      <td>NaN</td>\n",
              "      <td>NaN</td>\n",
              "      <td>NaN</td>\n",
              "      <td>NaN</td>\n",
              "      <td>NaN</td>\n",
              "      <td>CarSafe</td>\n",
              "      <td>0.0</td>\n",
              "    </tr>\n",
              "    <tr>\n",
              "      <th>3518</th>\n",
              "      <td>ID_AE3U4I4</td>\n",
              "      <td>2010-01-16</td>\n",
              "      <td>2011-01-15</td>\n",
              "      <td>Female</td>\n",
              "      <td>-5939</td>\n",
              "      <td>2010-01-16</td>\n",
              "      <td>2</td>\n",
              "      <td>NaN</td>\n",
              "      <td>As Attached</td>\n",
              "      <td>TOYOTA</td>\n",
              "      <td>Victoria Island</td>\n",
              "      <td>Lagos</td>\n",
              "      <td>Car Classic</td>\n",
              "      <td>1.0</td>\n",
              "    </tr>\n",
              "    <tr>\n",
              "      <th>3649</th>\n",
              "      <td>ID_AUPXOA1</td>\n",
              "      <td>2010-08-04</td>\n",
              "      <td>2011-08-03</td>\n",
              "      <td>Male</td>\n",
              "      <td>-22</td>\n",
              "      <td>2010-08-04</td>\n",
              "      <td>1</td>\n",
              "      <td>Saloon</td>\n",
              "      <td>NaN</td>\n",
              "      <td>Mercedes</td>\n",
              "      <td>Oshodi-Isolo</td>\n",
              "      <td>Oshodi-Isolo</td>\n",
              "      <td>CarSafe</td>\n",
              "      <td>0.0</td>\n",
              "    </tr>\n",
              "    <tr>\n",
              "      <th>5173</th>\n",
              "      <td>ID_FKJFVMX</td>\n",
              "      <td>2010-12-14</td>\n",
              "      <td>2011-01-13</td>\n",
              "      <td>Female</td>\n",
              "      <td>-5939</td>\n",
              "      <td>2010-12-14</td>\n",
              "      <td>2</td>\n",
              "      <td>NaN</td>\n",
              "      <td>NaN</td>\n",
              "      <td>NaN</td>\n",
              "      <td>Victoria Island</td>\n",
              "      <td>Lagos</td>\n",
              "      <td>Customized Motor</td>\n",
              "      <td>1.0</td>\n",
              "    </tr>\n",
              "    <tr>\n",
              "      <th>6387</th>\n",
              "      <td>ID_J0OJ082</td>\n",
              "      <td>2010-04-23</td>\n",
              "      <td>2011-04-22</td>\n",
              "      <td>Male</td>\n",
              "      <td>-12</td>\n",
              "      <td>2010-04-23</td>\n",
              "      <td>3</td>\n",
              "      <td>Saloon</td>\n",
              "      <td>NaN</td>\n",
              "      <td>Hyundai</td>\n",
              "      <td>Victoria Island</td>\n",
              "      <td>Lagos</td>\n",
              "      <td>Car Plus</td>\n",
              "      <td>0.0</td>\n",
              "    </tr>\n",
              "    <tr>\n",
              "      <th>6856</th>\n",
              "      <td>ID_KK04G4Y</td>\n",
              "      <td>2010-04-30</td>\n",
              "      <td>2011-04-29</td>\n",
              "      <td>Female</td>\n",
              "      <td>-76</td>\n",
              "      <td>2010-04-30</td>\n",
              "      <td>2</td>\n",
              "      <td>NaN</td>\n",
              "      <td>NaN</td>\n",
              "      <td>Hyundai</td>\n",
              "      <td>Ilupeju</td>\n",
              "      <td>Lagos</td>\n",
              "      <td>CVTP</td>\n",
              "      <td>0.0</td>\n",
              "    </tr>\n",
              "    <tr>\n",
              "      <th>7639</th>\n",
              "      <td>ID_N21XK5R</td>\n",
              "      <td>2010-04-23</td>\n",
              "      <td>2011-04-22</td>\n",
              "      <td>Male</td>\n",
              "      <td>-27</td>\n",
              "      <td>2010-04-23</td>\n",
              "      <td>2</td>\n",
              "      <td>JEEP</td>\n",
              "      <td>Blue</td>\n",
              "      <td>TOYOTA</td>\n",
              "      <td>Ilesha West</td>\n",
              "      <td>Ilesha-West</td>\n",
              "      <td>Car Classic</td>\n",
              "      <td>1.0</td>\n",
              "    </tr>\n",
              "    <tr>\n",
              "      <th>9206</th>\n",
              "      <td>ID_RFUH5QQ</td>\n",
              "      <td>2010-09-19</td>\n",
              "      <td>2011-09-18</td>\n",
              "      <td>Male</td>\n",
              "      <td>-51</td>\n",
              "      <td>2010-09-19</td>\n",
              "      <td>1</td>\n",
              "      <td>Saloon</td>\n",
              "      <td>NaN</td>\n",
              "      <td>Kia</td>\n",
              "      <td>Ikeja</td>\n",
              "      <td>Lagos</td>\n",
              "      <td>Car Classic</td>\n",
              "      <td>0.0</td>\n",
              "    </tr>\n",
              "    <tr>\n",
              "      <th>10713</th>\n",
              "      <td>ID_W1712TQ</td>\n",
              "      <td>2010-04-30</td>\n",
              "      <td>2011-04-29</td>\n",
              "      <td>Female</td>\n",
              "      <td>-76</td>\n",
              "      <td>2010-04-30</td>\n",
              "      <td>2</td>\n",
              "      <td>Bus</td>\n",
              "      <td>NaN</td>\n",
              "      <td>Hyundai</td>\n",
              "      <td>Ilupeju</td>\n",
              "      <td>Lagos</td>\n",
              "      <td>CVTP</td>\n",
              "      <td>0.0</td>\n",
              "    </tr>\n",
              "    <tr>\n",
              "      <th>11085</th>\n",
              "      <td>ID_X3TKPRD</td>\n",
              "      <td>2010-02-20</td>\n",
              "      <td>2011-02-19</td>\n",
              "      <td>Male</td>\n",
              "      <td>-26</td>\n",
              "      <td>2010-02-20</td>\n",
              "      <td>1</td>\n",
              "      <td>Saloon</td>\n",
              "      <td>As Attached</td>\n",
              "      <td>COMMANDER</td>\n",
              "      <td>NaN</td>\n",
              "      <td>NaN</td>\n",
              "      <td>CarSafe</td>\n",
              "      <td>0.0</td>\n",
              "    </tr>\n",
              "    <tr>\n",
              "      <th>11277</th>\n",
              "      <td>ID_XP6WX98</td>\n",
              "      <td>2010-06-26</td>\n",
              "      <td>2011-06-25</td>\n",
              "      <td>Female</td>\n",
              "      <td>-2</td>\n",
              "      <td>2010-06-26</td>\n",
              "      <td>1</td>\n",
              "      <td>JEEP</td>\n",
              "      <td>As Attached</td>\n",
              "      <td>TOYOTA</td>\n",
              "      <td>NaN</td>\n",
              "      <td>NaN</td>\n",
              "      <td>Car Classic</td>\n",
              "      <td>0.0</td>\n",
              "    </tr>\n",
              "    <tr>\n",
              "      <th>12148</th>\n",
              "      <td>ID_1ZI8ZSZ</td>\n",
              "      <td>2010-09-25</td>\n",
              "      <td>2011-09-24</td>\n",
              "      <td>Male</td>\n",
              "      <td>-12</td>\n",
              "      <td>2010-09-25</td>\n",
              "      <td>3</td>\n",
              "      <td>NaN</td>\n",
              "      <td>NaN</td>\n",
              "      <td>NaN</td>\n",
              "      <td>Victoria Island</td>\n",
              "      <td>Lagos</td>\n",
              "      <td>Car Classic</td>\n",
              "      <td>NaN</td>\n",
              "    </tr>\n",
              "    <tr>\n",
              "      <th>12268</th>\n",
              "      <td>ID_65ZO1JA</td>\n",
              "      <td>2010-11-04</td>\n",
              "      <td>2011-11-03</td>\n",
              "      <td>Male</td>\n",
              "      <td>-12</td>\n",
              "      <td>2010-11-04</td>\n",
              "      <td>3</td>\n",
              "      <td>NaN</td>\n",
              "      <td>NaN</td>\n",
              "      <td>NaN</td>\n",
              "      <td>Victoria Island</td>\n",
              "      <td>Lagos</td>\n",
              "      <td>Car Classic</td>\n",
              "      <td>NaN</td>\n",
              "    </tr>\n",
              "    <tr>\n",
              "      <th>12476</th>\n",
              "      <td>ID_CA5JTDM</td>\n",
              "      <td>2010-02-20</td>\n",
              "      <td>2011-02-19</td>\n",
              "      <td>Male</td>\n",
              "      <td>-26</td>\n",
              "      <td>2010-02-20</td>\n",
              "      <td>1</td>\n",
              "      <td>Saloon</td>\n",
              "      <td>NaN</td>\n",
              "      <td>NaN</td>\n",
              "      <td>NaN</td>\n",
              "      <td>NaN</td>\n",
              "      <td>CarSafe</td>\n",
              "      <td>NaN</td>\n",
              "    </tr>\n",
              "  </tbody>\n",
              "</table>\n",
              "</div>"
            ],
            "text/plain": [
              "               ID Policy Start Date  ...       ProductName target\n",
              "909    ID_2SKRJKI        2010-04-30  ...              CVTP    0.0\n",
              "1226   ID_3QOZW9J        2010-03-15  ...  Customized Motor    0.0\n",
              "2580   ID_7OMERTL        2010-04-23  ...          Car Plus    0.0\n",
              "3114   ID_98EVCPR        2010-06-26  ...       Car Classic    0.0\n",
              "3427   ID_A3YN75Z        2010-10-02  ...           CarSafe    0.0\n",
              "3518   ID_AE3U4I4        2010-01-16  ...       Car Classic    1.0\n",
              "3649   ID_AUPXOA1        2010-08-04  ...           CarSafe    0.0\n",
              "5173   ID_FKJFVMX        2010-12-14  ...  Customized Motor    1.0\n",
              "6387   ID_J0OJ082        2010-04-23  ...          Car Plus    0.0\n",
              "6856   ID_KK04G4Y        2010-04-30  ...              CVTP    0.0\n",
              "7639   ID_N21XK5R        2010-04-23  ...       Car Classic    1.0\n",
              "9206   ID_RFUH5QQ        2010-09-19  ...       Car Classic    0.0\n",
              "10713  ID_W1712TQ        2010-04-30  ...              CVTP    0.0\n",
              "11085  ID_X3TKPRD        2010-02-20  ...           CarSafe    0.0\n",
              "11277  ID_XP6WX98        2010-06-26  ...       Car Classic    0.0\n",
              "12148  ID_1ZI8ZSZ        2010-09-25  ...       Car Classic    NaN\n",
              "12268  ID_65ZO1JA        2010-11-04  ...       Car Classic    NaN\n",
              "12476  ID_CA5JTDM        2010-02-20  ...           CarSafe    NaN\n",
              "\n",
              "[18 rows x 14 columns]"
            ]
          },
          "metadata": {
            "tags": []
          },
          "execution_count": 19
        }
      ]
    },
    {
      "cell_type": "code",
      "metadata": {
        "id": "ZskvMXnO-NTu"
      },
      "source": [
        "#making the values of the age to be absolute\n",
        "all_data['Age'] = all_data['Age'].abs()"
      ],
      "execution_count": null,
      "outputs": []
    },
    {
      "cell_type": "code",
      "metadata": {
        "colab": {
          "base_uri": "https://localhost:8080/",
          "height": 142
        },
        "id": "0mYT6-Fb-NTv",
        "outputId": "9945c06a-ad1e-4b34-8cb3-2058e96c1eaa"
      },
      "source": [
        "#Rechecking the range for the age\n",
        "all_data.describe().transpose()"
      ],
      "execution_count": null,
      "outputs": [
        {
          "output_type": "execute_result",
          "data": {
            "text/html": [
              "<div>\n",
              "<style scoped>\n",
              "    .dataframe tbody tr th:only-of-type {\n",
              "        vertical-align: middle;\n",
              "    }\n",
              "\n",
              "    .dataframe tbody tr th {\n",
              "        vertical-align: top;\n",
              "    }\n",
              "\n",
              "    .dataframe thead th {\n",
              "        text-align: right;\n",
              "    }\n",
              "</style>\n",
              "<table border=\"1\" class=\"dataframe\">\n",
              "  <thead>\n",
              "    <tr style=\"text-align: right;\">\n",
              "      <th></th>\n",
              "      <th>count</th>\n",
              "      <th>mean</th>\n",
              "      <th>std</th>\n",
              "      <th>min</th>\n",
              "      <th>25%</th>\n",
              "      <th>50%</th>\n",
              "      <th>75%</th>\n",
              "      <th>max</th>\n",
              "    </tr>\n",
              "  </thead>\n",
              "  <tbody>\n",
              "    <tr>\n",
              "      <th>Age</th>\n",
              "      <td>13281.0</td>\n",
              "      <td>45.148106</td>\n",
              "      <td>91.859380</td>\n",
              "      <td>0.0</td>\n",
              "      <td>35.0</td>\n",
              "      <td>41.0</td>\n",
              "      <td>50.0</td>\n",
              "      <td>6099.0</td>\n",
              "    </tr>\n",
              "    <tr>\n",
              "      <th>No_Pol</th>\n",
              "      <td>13281.0</td>\n",
              "      <td>1.302763</td>\n",
              "      <td>0.723195</td>\n",
              "      <td>1.0</td>\n",
              "      <td>1.0</td>\n",
              "      <td>1.0</td>\n",
              "      <td>1.0</td>\n",
              "      <td>10.0</td>\n",
              "    </tr>\n",
              "    <tr>\n",
              "      <th>target</th>\n",
              "      <td>12079.0</td>\n",
              "      <td>0.120457</td>\n",
              "      <td>0.325509</td>\n",
              "      <td>0.0</td>\n",
              "      <td>0.0</td>\n",
              "      <td>0.0</td>\n",
              "      <td>0.0</td>\n",
              "      <td>1.0</td>\n",
              "    </tr>\n",
              "  </tbody>\n",
              "</table>\n",
              "</div>"
            ],
            "text/plain": [
              "          count       mean        std  min   25%   50%   75%     max\n",
              "Age     13281.0  45.148106  91.859380  0.0  35.0  41.0  50.0  6099.0\n",
              "No_Pol  13281.0   1.302763   0.723195  1.0   1.0   1.0   1.0    10.0\n",
              "target  12079.0   0.120457   0.325509  0.0   0.0   0.0   0.0     1.0"
            ]
          },
          "metadata": {
            "tags": []
          },
          "execution_count": 21
        }
      ]
    },
    {
      "cell_type": "code",
      "metadata": {
        "scrolled": true,
        "colab": {
          "base_uri": "https://localhost:8080/",
          "height": 823
        },
        "id": "t2fvjAxA-NTw",
        "outputId": "0e9a9380-d63b-48f0-d142-005532a7796c"
      },
      "source": [
        "all_data[all_data['Age']>144]"
      ],
      "execution_count": null,
      "outputs": [
        {
          "output_type": "execute_result",
          "data": {
            "text/html": [
              "<div>\n",
              "<style scoped>\n",
              "    .dataframe tbody tr th:only-of-type {\n",
              "        vertical-align: middle;\n",
              "    }\n",
              "\n",
              "    .dataframe tbody tr th {\n",
              "        vertical-align: top;\n",
              "    }\n",
              "\n",
              "    .dataframe thead th {\n",
              "        text-align: right;\n",
              "    }\n",
              "</style>\n",
              "<table border=\"1\" class=\"dataframe\">\n",
              "  <thead>\n",
              "    <tr style=\"text-align: right;\">\n",
              "      <th></th>\n",
              "      <th>ID</th>\n",
              "      <th>Policy Start Date</th>\n",
              "      <th>Policy End Date</th>\n",
              "      <th>Gender</th>\n",
              "      <th>Age</th>\n",
              "      <th>First Transaction Date</th>\n",
              "      <th>No_Pol</th>\n",
              "      <th>Car_Category</th>\n",
              "      <th>Subject_Car_Colour</th>\n",
              "      <th>Subject_Car_Make</th>\n",
              "      <th>LGA_Name</th>\n",
              "      <th>State</th>\n",
              "      <th>ProductName</th>\n",
              "      <th>target</th>\n",
              "    </tr>\n",
              "  </thead>\n",
              "  <tbody>\n",
              "    <tr>\n",
              "      <th>2487</th>\n",
              "      <td>ID_7EU42FJ</td>\n",
              "      <td>2010-01-29</td>\n",
              "      <td>2011-01-28</td>\n",
              "      <td>Male</td>\n",
              "      <td>320</td>\n",
              "      <td>2010-01-29</td>\n",
              "      <td>2</td>\n",
              "      <td>NaN</td>\n",
              "      <td>NaN</td>\n",
              "      <td>TOYOTA</td>\n",
              "      <td>Abuja</td>\n",
              "      <td>Abuja</td>\n",
              "      <td>Car Classic</td>\n",
              "      <td>0.0</td>\n",
              "    </tr>\n",
              "    <tr>\n",
              "      <th>3427</th>\n",
              "      <td>ID_A3YN75Z</td>\n",
              "      <td>2010-10-02</td>\n",
              "      <td>2011-10-01</td>\n",
              "      <td>Other</td>\n",
              "      <td>6099</td>\n",
              "      <td>2010-10-02</td>\n",
              "      <td>1</td>\n",
              "      <td>NaN</td>\n",
              "      <td>NaN</td>\n",
              "      <td>NaN</td>\n",
              "      <td>NaN</td>\n",
              "      <td>NaN</td>\n",
              "      <td>CarSafe</td>\n",
              "      <td>0.0</td>\n",
              "    </tr>\n",
              "    <tr>\n",
              "      <th>3493</th>\n",
              "      <td>ID_ABN28TN</td>\n",
              "      <td>2010-09-06</td>\n",
              "      <td>2011-09-05</td>\n",
              "      <td>Male</td>\n",
              "      <td>320</td>\n",
              "      <td>2010-09-06</td>\n",
              "      <td>1</td>\n",
              "      <td>NaN</td>\n",
              "      <td>NaN</td>\n",
              "      <td>Range Rover</td>\n",
              "      <td>Ketu</td>\n",
              "      <td>Lagos</td>\n",
              "      <td>Car Classic</td>\n",
              "      <td>0.0</td>\n",
              "    </tr>\n",
              "    <tr>\n",
              "      <th>3518</th>\n",
              "      <td>ID_AE3U4I4</td>\n",
              "      <td>2010-01-16</td>\n",
              "      <td>2011-01-15</td>\n",
              "      <td>Female</td>\n",
              "      <td>5939</td>\n",
              "      <td>2010-01-16</td>\n",
              "      <td>2</td>\n",
              "      <td>NaN</td>\n",
              "      <td>As Attached</td>\n",
              "      <td>TOYOTA</td>\n",
              "      <td>Victoria Island</td>\n",
              "      <td>Lagos</td>\n",
              "      <td>Car Classic</td>\n",
              "      <td>1.0</td>\n",
              "    </tr>\n",
              "    <tr>\n",
              "      <th>4511</th>\n",
              "      <td>ID_DJ2OITJ</td>\n",
              "      <td>2010-09-06</td>\n",
              "      <td>2011-09-05</td>\n",
              "      <td>Male</td>\n",
              "      <td>320</td>\n",
              "      <td>2010-09-06</td>\n",
              "      <td>1</td>\n",
              "      <td>NaN</td>\n",
              "      <td>As Attached</td>\n",
              "      <td>Range Rover</td>\n",
              "      <td>Ketu</td>\n",
              "      <td>Lagos</td>\n",
              "      <td>Car Classic</td>\n",
              "      <td>0.0</td>\n",
              "    </tr>\n",
              "    <tr>\n",
              "      <th>4969</th>\n",
              "      <td>ID_EXEIEJM</td>\n",
              "      <td>2010-03-25</td>\n",
              "      <td>2011-03-24</td>\n",
              "      <td>Male</td>\n",
              "      <td>320</td>\n",
              "      <td>2010-03-25</td>\n",
              "      <td>2</td>\n",
              "      <td>JEEP</td>\n",
              "      <td>Silver</td>\n",
              "      <td>Range Rover</td>\n",
              "      <td>Victoria Island</td>\n",
              "      <td>Lagos</td>\n",
              "      <td>Car Classic</td>\n",
              "      <td>0.0</td>\n",
              "    </tr>\n",
              "    <tr>\n",
              "      <th>4975</th>\n",
              "      <td>ID_EY7TG7T</td>\n",
              "      <td>2010-11-26</td>\n",
              "      <td>2011-11-25</td>\n",
              "      <td>Male</td>\n",
              "      <td>320</td>\n",
              "      <td>2010-11-26</td>\n",
              "      <td>1</td>\n",
              "      <td>NaN</td>\n",
              "      <td>NaN</td>\n",
              "      <td>NaN</td>\n",
              "      <td>Ketu</td>\n",
              "      <td>Lagos</td>\n",
              "      <td>Car Classic</td>\n",
              "      <td>0.0</td>\n",
              "    </tr>\n",
              "    <tr>\n",
              "      <th>5173</th>\n",
              "      <td>ID_FKJFVMX</td>\n",
              "      <td>2010-12-14</td>\n",
              "      <td>2011-01-13</td>\n",
              "      <td>Female</td>\n",
              "      <td>5939</td>\n",
              "      <td>2010-12-14</td>\n",
              "      <td>2</td>\n",
              "      <td>NaN</td>\n",
              "      <td>NaN</td>\n",
              "      <td>NaN</td>\n",
              "      <td>Victoria Island</td>\n",
              "      <td>Lagos</td>\n",
              "      <td>Customized Motor</td>\n",
              "      <td>1.0</td>\n",
              "    </tr>\n",
              "    <tr>\n",
              "      <th>5730</th>\n",
              "      <td>ID_H6FN9MZ</td>\n",
              "      <td>2010-01-22</td>\n",
              "      <td>2011-01-21</td>\n",
              "      <td>Male</td>\n",
              "      <td>320</td>\n",
              "      <td>2010-01-22</td>\n",
              "      <td>2</td>\n",
              "      <td>NaN</td>\n",
              "      <td>NaN</td>\n",
              "      <td>Honda</td>\n",
              "      <td>Lagos Mainland</td>\n",
              "      <td>Lagos</td>\n",
              "      <td>Car Classic</td>\n",
              "      <td>0.0</td>\n",
              "    </tr>\n",
              "    <tr>\n",
              "      <th>5885</th>\n",
              "      <td>ID_HNBGWO8</td>\n",
              "      <td>2010-09-01</td>\n",
              "      <td>2011-08-31</td>\n",
              "      <td>Male</td>\n",
              "      <td>320</td>\n",
              "      <td>2010-09-01</td>\n",
              "      <td>1</td>\n",
              "      <td>NaN</td>\n",
              "      <td>NaN</td>\n",
              "      <td>TOYOTA</td>\n",
              "      <td>Festac</td>\n",
              "      <td>Benue</td>\n",
              "      <td>Car Classic</td>\n",
              "      <td>0.0</td>\n",
              "    </tr>\n",
              "    <tr>\n",
              "      <th>6137</th>\n",
              "      <td>ID_IDGH9Q0</td>\n",
              "      <td>2010-02-06</td>\n",
              "      <td>2011-02-05</td>\n",
              "      <td>Female</td>\n",
              "      <td>320</td>\n",
              "      <td>2010-02-06</td>\n",
              "      <td>2</td>\n",
              "      <td>JEEP</td>\n",
              "      <td>NaN</td>\n",
              "      <td>Nissan</td>\n",
              "      <td>Abuja</td>\n",
              "      <td>Abuja</td>\n",
              "      <td>Car Classic</td>\n",
              "      <td>1.0</td>\n",
              "    </tr>\n",
              "    <tr>\n",
              "      <th>6185</th>\n",
              "      <td>ID_IHCUW4S</td>\n",
              "      <td>2010-01-29</td>\n",
              "      <td>2011-01-28</td>\n",
              "      <td>Male</td>\n",
              "      <td>320</td>\n",
              "      <td>2010-01-29</td>\n",
              "      <td>2</td>\n",
              "      <td>NaN</td>\n",
              "      <td>NaN</td>\n",
              "      <td>TOYOTA</td>\n",
              "      <td>Abuja</td>\n",
              "      <td>Abuja</td>\n",
              "      <td>Car Classic</td>\n",
              "      <td>0.0</td>\n",
              "    </tr>\n",
              "    <tr>\n",
              "      <th>8123</th>\n",
              "      <td>ID_OEP7EF1</td>\n",
              "      <td>2010-09-06</td>\n",
              "      <td>2011-09-05</td>\n",
              "      <td>Other</td>\n",
              "      <td>320</td>\n",
              "      <td>2010-09-06</td>\n",
              "      <td>2</td>\n",
              "      <td>NaN</td>\n",
              "      <td>Red</td>\n",
              "      <td>Ford</td>\n",
              "      <td>OGUN</td>\n",
              "      <td>Ogun</td>\n",
              "      <td>CVTP</td>\n",
              "      <td>0.0</td>\n",
              "    </tr>\n",
              "    <tr>\n",
              "      <th>10090</th>\n",
              "      <td>ID_U739YS5</td>\n",
              "      <td>2010-01-22</td>\n",
              "      <td>2011-01-21</td>\n",
              "      <td>Male</td>\n",
              "      <td>320</td>\n",
              "      <td>2010-01-22</td>\n",
              "      <td>2</td>\n",
              "      <td>NaN</td>\n",
              "      <td>As Attached</td>\n",
              "      <td>Honda</td>\n",
              "      <td>Lagos Mainland</td>\n",
              "      <td>Lagos</td>\n",
              "      <td>Car Classic</td>\n",
              "      <td>0.0</td>\n",
              "    </tr>\n",
              "    <tr>\n",
              "      <th>10819</th>\n",
              "      <td>ID_WB14DTA</td>\n",
              "      <td>2010-09-06</td>\n",
              "      <td>2011-09-05</td>\n",
              "      <td>Male</td>\n",
              "      <td>320</td>\n",
              "      <td>2010-09-06</td>\n",
              "      <td>1</td>\n",
              "      <td>JEEP</td>\n",
              "      <td>As Attached</td>\n",
              "      <td>Range Rover</td>\n",
              "      <td>Ketu</td>\n",
              "      <td>Lagos</td>\n",
              "      <td>Car Classic</td>\n",
              "      <td>0.0</td>\n",
              "    </tr>\n",
              "  </tbody>\n",
              "</table>\n",
              "</div>"
            ],
            "text/plain": [
              "               ID Policy Start Date  ...       ProductName target\n",
              "2487   ID_7EU42FJ        2010-01-29  ...       Car Classic    0.0\n",
              "3427   ID_A3YN75Z        2010-10-02  ...           CarSafe    0.0\n",
              "3493   ID_ABN28TN        2010-09-06  ...       Car Classic    0.0\n",
              "3518   ID_AE3U4I4        2010-01-16  ...       Car Classic    1.0\n",
              "4511   ID_DJ2OITJ        2010-09-06  ...       Car Classic    0.0\n",
              "4969   ID_EXEIEJM        2010-03-25  ...       Car Classic    0.0\n",
              "4975   ID_EY7TG7T        2010-11-26  ...       Car Classic    0.0\n",
              "5173   ID_FKJFVMX        2010-12-14  ...  Customized Motor    1.0\n",
              "5730   ID_H6FN9MZ        2010-01-22  ...       Car Classic    0.0\n",
              "5885   ID_HNBGWO8        2010-09-01  ...       Car Classic    0.0\n",
              "6137   ID_IDGH9Q0        2010-02-06  ...       Car Classic    1.0\n",
              "6185   ID_IHCUW4S        2010-01-29  ...       Car Classic    0.0\n",
              "8123   ID_OEP7EF1        2010-09-06  ...              CVTP    0.0\n",
              "10090  ID_U739YS5        2010-01-22  ...       Car Classic    0.0\n",
              "10819  ID_WB14DTA        2010-09-06  ...       Car Classic    0.0\n",
              "\n",
              "[15 rows x 14 columns]"
            ]
          },
          "metadata": {
            "tags": []
          },
          "execution_count": 22
        }
      ]
    },
    {
      "cell_type": "code",
      "metadata": {
        "id": "4ITnG3zs-NTx"
      },
      "source": [
        "#It seems a common error on 320, 5939, 6099 years\n",
        "#we replace 320 to 32, 5939 to 59, 6099 to 60\n",
        "all_data['Age'].replace({320:32, 5939:59, 6099:60}, inplace=True)"
      ],
      "execution_count": null,
      "outputs": []
    },
    {
      "cell_type": "code",
      "metadata": {
        "scrolled": true,
        "colab": {
          "base_uri": "https://localhost:8080/"
        },
        "id": "u-G5dfJl-NTy",
        "outputId": "b0fbd0b0-4c37-4f47-8827-7f45b2791fa7"
      },
      "source": [
        "#Rechecking the range for the age\n",
        "all_data['Age'].describe().transpose()"
      ],
      "execution_count": null,
      "outputs": [
        {
          "output_type": "execute_result",
          "data": {
            "text/plain": [
              "count    13281.000000\n",
              "mean        43.547700\n",
              "std         19.397184\n",
              "min          0.000000\n",
              "25%         35.000000\n",
              "50%         41.000000\n",
              "75%         50.000000\n",
              "max        144.000000\n",
              "Name: Age, dtype: float64"
            ]
          },
          "metadata": {
            "tags": []
          },
          "execution_count": 24
        }
      ]
    },
    {
      "cell_type": "code",
      "metadata": {
        "colab": {
          "base_uri": "https://localhost:8080/"
        },
        "id": "74YRr2-W-NTz",
        "outputId": "6dc8b3cd-4345-4ca3-82e2-f031c0c6caae"
      },
      "source": [
        "all_data.info()"
      ],
      "execution_count": null,
      "outputs": [
        {
          "output_type": "stream",
          "text": [
            "<class 'pandas.core.frame.DataFrame'>\n",
            "RangeIndex: 13281 entries, 0 to 13280\n",
            "Data columns (total 14 columns):\n",
            " #   Column                  Non-Null Count  Dtype         \n",
            "---  ------                  --------------  -----         \n",
            " 0   ID                      13281 non-null  object        \n",
            " 1   Policy Start Date       13281 non-null  datetime64[ns]\n",
            " 2   Policy End Date         13281 non-null  datetime64[ns]\n",
            " 3   Gender                  12881 non-null  object        \n",
            " 4   Age                     13281 non-null  int64         \n",
            " 5   First Transaction Date  13281 non-null  datetime64[ns]\n",
            " 6   No_Pol                  13281 non-null  int64         \n",
            " 7   Car_Category            9171 non-null   category      \n",
            " 8   Subject_Car_Colour      5622 non-null   category      \n",
            " 9   Subject_Car_Make        10496 non-null  object        \n",
            " 10  LGA_Name                6149 non-null   category      \n",
            " 11  State                   6137 non-null   category      \n",
            " 12  ProductName             13281 non-null  category      \n",
            " 13  target                  12079 non-null  float64       \n",
            "dtypes: category(5), datetime64[ns](3), float64(1), int64(2), object(3)\n",
            "memory usage: 1.0+ MB\n"
          ],
          "name": "stdout"
        }
      ]
    },
    {
      "cell_type": "markdown",
      "metadata": {
        "id": "Ca3v3Ogt-NTz"
      },
      "source": [
        "#### filling null values in gender column"
      ]
    },
    {
      "cell_type": "code",
      "metadata": {
        "colab": {
          "base_uri": "https://localhost:8080/"
        },
        "id": "skb-x6DW-NT0",
        "outputId": "f384531e-10ba-49c3-dbec-512f44ef1caa"
      },
      "source": [
        "all_data.isnull().sum()"
      ],
      "execution_count": null,
      "outputs": [
        {
          "output_type": "execute_result",
          "data": {
            "text/plain": [
              "ID                           0\n",
              "Policy Start Date            0\n",
              "Policy End Date              0\n",
              "Gender                     400\n",
              "Age                          0\n",
              "First Transaction Date       0\n",
              "No_Pol                       0\n",
              "Car_Category              4110\n",
              "Subject_Car_Colour        7659\n",
              "Subject_Car_Make          2785\n",
              "LGA_Name                  7132\n",
              "State                     7144\n",
              "ProductName                  0\n",
              "target                    1202\n",
              "dtype: int64"
            ]
          },
          "metadata": {
            "tags": []
          },
          "execution_count": 26
        }
      ]
    },
    {
      "cell_type": "code",
      "metadata": {
        "colab": {
          "base_uri": "https://localhost:8080/",
          "height": 296
        },
        "id": "YmDj7axx-NT0",
        "outputId": "5b7f17fa-ecbe-4891-9cf8-bffc4ae8d202"
      },
      "source": [
        "#Check relation of gender to age\n",
        "sns.boxplot(x='Gender', y='Age', data=all_data, palette='hls')"
      ],
      "execution_count": null,
      "outputs": [
        {
          "output_type": "execute_result",
          "data": {
            "text/plain": [
              "<matplotlib.axes._subplots.AxesSubplot at 0x7f7048ccc150>"
            ]
          },
          "metadata": {
            "tags": []
          },
          "execution_count": 27
        },
        {
          "output_type": "display_data",
          "data": {
            "image/png": "[encoded data removed]",
            "text/plain": [
              "<Figure size 432x288 with 1 Axes>"
            ]
          },
          "metadata": {
            "tags": [],
            "needs_background": "light"
          }
        }
      ]
    },
    {
      "cell_type": "code",
      "metadata": {
        "colab": {
          "base_uri": "https://localhost:8080/",
          "height": 343
        },
        "id": "ubQa49_t-NT1",
        "outputId": "0377bb21-0445-4be8-eb92-426d65d46f49"
      },
      "source": [
        "all_data[all_data['Gender'].isnull()].head()"
      ],
      "execution_count": null,
      "outputs": [
        {
          "output_type": "execute_result",
          "data": {
            "text/html": [
              "<div>\n",
              "<style scoped>\n",
              "    .dataframe tbody tr th:only-of-type {\n",
              "        vertical-align: middle;\n",
              "    }\n",
              "\n",
              "    .dataframe tbody tr th {\n",
              "        vertical-align: top;\n",
              "    }\n",
              "\n",
              "    .dataframe thead th {\n",
              "        text-align: right;\n",
              "    }\n",
              "</style>\n",
              "<table border=\"1\" class=\"dataframe\">\n",
              "  <thead>\n",
              "    <tr style=\"text-align: right;\">\n",
              "      <th></th>\n",
              "      <th>ID</th>\n",
              "      <th>Policy Start Date</th>\n",
              "      <th>Policy End Date</th>\n",
              "      <th>Gender</th>\n",
              "      <th>Age</th>\n",
              "      <th>First Transaction Date</th>\n",
              "      <th>No_Pol</th>\n",
              "      <th>Car_Category</th>\n",
              "      <th>Subject_Car_Colour</th>\n",
              "      <th>Subject_Car_Make</th>\n",
              "      <th>LGA_Name</th>\n",
              "      <th>State</th>\n",
              "      <th>ProductName</th>\n",
              "      <th>target</th>\n",
              "    </tr>\n",
              "  </thead>\n",
              "  <tbody>\n",
              "    <tr>\n",
              "      <th>32</th>\n",
              "      <td>ID_02XA0UK</td>\n",
              "      <td>2010-10-07</td>\n",
              "      <td>2011-04-05</td>\n",
              "      <td>NaN</td>\n",
              "      <td>34</td>\n",
              "      <td>2010-10-07</td>\n",
              "      <td>1</td>\n",
              "      <td>NaN</td>\n",
              "      <td>NaN</td>\n",
              "      <td>NaN</td>\n",
              "      <td>Victoria Island</td>\n",
              "      <td>Lagos</td>\n",
              "      <td>Car Classic</td>\n",
              "      <td>0.0</td>\n",
              "    </tr>\n",
              "    <tr>\n",
              "      <th>33</th>\n",
              "      <td>ID_034XN1U</td>\n",
              "      <td>2010-07-02</td>\n",
              "      <td>2011-07-01</td>\n",
              "      <td>NaN</td>\n",
              "      <td>2</td>\n",
              "      <td>2010-07-02</td>\n",
              "      <td>1</td>\n",
              "      <td>Motorcycle</td>\n",
              "      <td>Red</td>\n",
              "      <td>Jincheng</td>\n",
              "      <td>Victoria Island</td>\n",
              "      <td>Lagos</td>\n",
              "      <td>Motor Cycle</td>\n",
              "      <td>0.0</td>\n",
              "    </tr>\n",
              "    <tr>\n",
              "      <th>38</th>\n",
              "      <td>ID_03O8OI6</td>\n",
              "      <td>2010-05-08</td>\n",
              "      <td>2011-05-07</td>\n",
              "      <td>NaN</td>\n",
              "      <td>120</td>\n",
              "      <td>2010-05-08</td>\n",
              "      <td>2</td>\n",
              "      <td>JEEP</td>\n",
              "      <td>As Attached</td>\n",
              "      <td>TOYOTA</td>\n",
              "      <td>Victoria Island</td>\n",
              "      <td>Lagos</td>\n",
              "      <td>Car Classic</td>\n",
              "      <td>0.0</td>\n",
              "    </tr>\n",
              "    <tr>\n",
              "      <th>54</th>\n",
              "      <td>ID_058YC0S</td>\n",
              "      <td>2010-11-28</td>\n",
              "      <td>2011-11-27</td>\n",
              "      <td>NaN</td>\n",
              "      <td>120</td>\n",
              "      <td>2010-11-28</td>\n",
              "      <td>1</td>\n",
              "      <td>JEEP</td>\n",
              "      <td>Black</td>\n",
              "      <td>Lexus</td>\n",
              "      <td>Victoria Island</td>\n",
              "      <td>Lagos</td>\n",
              "      <td>Customized Motor</td>\n",
              "      <td>0.0</td>\n",
              "    </tr>\n",
              "    <tr>\n",
              "      <th>72</th>\n",
              "      <td>ID_070SYAE</td>\n",
              "      <td>2010-04-17</td>\n",
              "      <td>2011-04-16</td>\n",
              "      <td>NaN</td>\n",
              "      <td>120</td>\n",
              "      <td>2010-04-17</td>\n",
              "      <td>1</td>\n",
              "      <td>JEEP</td>\n",
              "      <td>Silver</td>\n",
              "      <td>Lexus</td>\n",
              "      <td>Victoria Island</td>\n",
              "      <td>Lagos</td>\n",
              "      <td>Customized Motor</td>\n",
              "      <td>0.0</td>\n",
              "    </tr>\n",
              "  </tbody>\n",
              "</table>\n",
              "</div>"
            ],
            "text/plain": [
              "            ID Policy Start Date  ...       ProductName target\n",
              "32  ID_02XA0UK        2010-10-07  ...       Car Classic    0.0\n",
              "33  ID_034XN1U        2010-07-02  ...       Motor Cycle    0.0\n",
              "38  ID_03O8OI6        2010-05-08  ...       Car Classic    0.0\n",
              "54  ID_058YC0S        2010-11-28  ...  Customized Motor    0.0\n",
              "72  ID_070SYAE        2010-04-17  ...  Customized Motor    0.0\n",
              "\n",
              "[5 rows x 14 columns]"
            ]
          },
          "metadata": {
            "tags": []
          },
          "execution_count": 28
        }
      ]
    },
    {
      "cell_type": "code",
      "metadata": {
        "id": "HvIWIewH-NT1"
      },
      "source": [
        "#A function that finds null values in gender and replaces with respect to age\n",
        "def gender_approx(cols):\n",
        "  Age = cols[0]\n",
        "  Gender = cols[1]\n",
        "\n",
        "  if pd.isnull(Gender):\n",
        "    if Age >= 70  :\n",
        "      return \"Male\"\n",
        "    elif Age < 30 and Age > 20:\n",
        "      return \"Other\"\n",
        "    elif Age > 40 and Age < 70:\n",
        "      return \"Female\"\n",
        "    else:\n",
        "      return \"Male\"\n",
        "\n",
        "  else:\n",
        "    return Gender"
      ],
      "execution_count": null,
      "outputs": []
    },
    {
      "cell_type": "code",
      "metadata": {
        "scrolled": true,
        "colab": {
          "base_uri": "https://localhost:8080/"
        },
        "id": "HvYPbCPb-NT2",
        "outputId": "51baeb33-d71d-44d8-cac1-a630f90ba4f6"
      },
      "source": [
        "#Apply function and check for null values\n",
        "all_data['Gender'] = all_data[['Age', 'Gender']].apply(gender_approx, axis=1)\n",
        "all_data.isnull().sum()"
      ],
      "execution_count": null,
      "outputs": [
        {
          "output_type": "execute_result",
          "data": {
            "text/plain": [
              "ID                           0\n",
              "Policy Start Date            0\n",
              "Policy End Date              0\n",
              "Gender                       0\n",
              "Age                          0\n",
              "First Transaction Date       0\n",
              "No_Pol                       0\n",
              "Car_Category              4110\n",
              "Subject_Car_Colour        7659\n",
              "Subject_Car_Make          2785\n",
              "LGA_Name                  7132\n",
              "State                     7144\n",
              "ProductName                  0\n",
              "target                    1202\n",
              "dtype: int64"
            ]
          },
          "metadata": {
            "tags": []
          },
          "execution_count": 30
        }
      ]
    },
    {
      "cell_type": "code",
      "metadata": {
        "colab": {
          "base_uri": "https://localhost:8080/"
        },
        "id": "zFIELvan-NT2",
        "outputId": "b9e786fe-6bd5-474f-c1f6-956a47d787aa"
      },
      "source": [
        "all_data.info()"
      ],
      "execution_count": null,
      "outputs": [
        {
          "output_type": "stream",
          "text": [
            "<class 'pandas.core.frame.DataFrame'>\n",
            "RangeIndex: 13281 entries, 0 to 13280\n",
            "Data columns (total 14 columns):\n",
            " #   Column                  Non-Null Count  Dtype         \n",
            "---  ------                  --------------  -----         \n",
            " 0   ID                      13281 non-null  object        \n",
            " 1   Policy Start Date       13281 non-null  datetime64[ns]\n",
            " 2   Policy End Date         13281 non-null  datetime64[ns]\n",
            " 3   Gender                  13281 non-null  object        \n",
            " 4   Age                     13281 non-null  int64         \n",
            " 5   First Transaction Date  13281 non-null  datetime64[ns]\n",
            " 6   No_Pol                  13281 non-null  int64         \n",
            " 7   Car_Category            9171 non-null   category      \n",
            " 8   Subject_Car_Colour      5622 non-null   category      \n",
            " 9   Subject_Car_Make        10496 non-null  object        \n",
            " 10  LGA_Name                6149 non-null   category      \n",
            " 11  State                   6137 non-null   category      \n",
            " 12  ProductName             13281 non-null  category      \n",
            " 13  target                  12079 non-null  float64       \n",
            "dtypes: category(5), datetime64[ns](3), float64(1), int64(2), object(3)\n",
            "memory usage: 1.0+ MB\n"
          ],
          "name": "stdout"
        }
      ]
    },
    {
      "cell_type": "markdown",
      "metadata": {
        "id": "qA3ahVka-NT3"
      },
      "source": [
        "#### filling null values in Subject_Car_Make"
      ]
    },
    {
      "cell_type": "code",
      "metadata": {
        "scrolled": true,
        "colab": {
          "base_uri": "https://localhost:8080/"
        },
        "id": "FzT0rGTY-NT4",
        "outputId": "c3657a16-b774-49df-f7f7-9c18f3f765aa"
      },
      "source": [
        "all_data['Subject_Car_Make'].value_counts().sort_values(ascending=False).head(60)"
      ],
      "execution_count": null,
      "outputs": [
        {
          "output_type": "execute_result",
          "data": {
            "text/plain": [
              "TOYOTA            5466\n",
              "Honda             1146\n",
              "Lexus              654\n",
              "Mercedes           577\n",
              "Hyundai            512\n",
              "Kia                375\n",
              "Ford               307\n",
              "Nissan             275\n",
              "Volkswagen         133\n",
              "Iveco              129\n",
              "Range Rover        121\n",
              "Mitsubishi         102\n",
              "ACURA               69\n",
              "BMW                 68\n",
              "Land Rover          66\n",
              "Mazda               47\n",
              "Peugeot             47\n",
              "Volvo               43\n",
              "Mack                35\n",
              "Audi                33\n",
              "Infiniti            30\n",
              "Pontiac             29\n",
              "Chevrolet           26\n",
              "DAF                 21\n",
              "Skoda               18\n",
              "Jeep                17\n",
              "Porsche             16\n",
              "Scania              12\n",
              "Suzuki               9\n",
              "Opel                 8\n",
              "Isuzu                8\n",
              "Dodge                7\n",
              "Land Rover.          6\n",
              "GMC                  6\n",
              "Renault              6\n",
              "Subaru               6\n",
              "MINI COOPER          5\n",
              "Man                  5\n",
              "LIBERTY              5\n",
              "GAC                  5\n",
              "Jaguar               4\n",
              "Innson               2\n",
              "Black                2\n",
              "Wrangler Jeep        2\n",
              "Seat                 2\n",
              "FOTON                2\n",
              "Hummer               2\n",
              "Grand Cherokee       2\n",
              "Chrysler             2\n",
              "Astra                2\n",
              "Fiat                 2\n",
              "Yamaha               1\n",
              "COMMANDER            1\n",
              "Lincoln              1\n",
              "Howo                 1\n",
              "Geely                1\n",
              "Bajaj                1\n",
              "MG                   1\n",
              "REXTON               1\n",
              "Caddillac            1\n",
              "Name: Subject_Car_Make, dtype: int64"
            ]
          },
          "metadata": {
            "tags": []
          },
          "execution_count": 32
        }
      ]
    },
    {
      "cell_type": "code",
      "metadata": {
        "colab": {
          "base_uri": "https://localhost:8080/"
        },
        "id": "0O6NKPsa-NT5",
        "outputId": "8590aacf-a4c9-41ea-bbe5-524c5812592d"
      },
      "source": [
        "all_data['Subject_Car_Make'].unique()"
      ],
      "execution_count": null,
      "outputs": [
        {
          "output_type": "execute_result",
          "data": {
            "text/plain": [
              "array(['TOYOTA', nan, 'REXTON', 'Lexus', 'Hyundai', 'Iveco', 'DAF',\n",
              "       'Honda', 'Mercedes', 'Jincheng', 'ACURA', 'Ford', 'Volkswagen',\n",
              "       'Nissan', 'Pontiac', 'Range Rover', 'Kia', 'Mitsubishi', 'Scania',\n",
              "       'BMW', 'Infiniti', 'Renault', 'Volvo', 'Hummer', 'Mack',\n",
              "       'Grand Cherokee', 'Porsche', 'Peugeot', 'Land Rover', 'Chevrolet',\n",
              "       'Mazda', 'Man', 'Jeep', 'Audi', 'Suzuki', 'MINI COOPER', 'KA',\n",
              "       'Innson', 'Isuzu', 'Skoda', 'Jaguar', 'Chrysler', 'Dodge', 'GMC',\n",
              "       'Land Rover.', 'Subaru', 'GAC', 'Fiat', 'Opel', 'Astra',\n",
              "       'Motorcycle', 'ZOYTE', 'Seat', 'FOTON', 'Howo', 'Lincoln',\n",
              "       'Rols Royce', 'CHANGAN', 'LIBERTY', 'ABG', 'Yamaha', 'Black',\n",
              "       'Tata', 'Ashok Leyland', 'Geely', 'Caddillac', 'Wrangler Jeep',\n",
              "       'Raston', 'MG', 'BRILLIANCE', 'Buik', 'COMMANDER', 'Bajaj',\n",
              "       'Datsun'], dtype=object)"
            ]
          },
          "metadata": {
            "tags": []
          },
          "execution_count": 33
        }
      ]
    },
    {
      "cell_type": "code",
      "metadata": {
        "colab": {
          "base_uri": "https://localhost:8080/",
          "height": 500
        },
        "id": "uEg0_ipQ-NT6",
        "outputId": "aee71ad9-1b4f-4d27-c7b9-5953e2a348e0"
      },
      "source": [
        "plt.figure(figsize=(15,8))\n",
        "sns.countplot(all_data['Subject_Car_Make'])"
      ],
      "execution_count": null,
      "outputs": [
        {
          "output_type": "execute_result",
          "data": {
            "text/plain": [
              "<matplotlib.axes._subplots.AxesSubplot at 0x7f7047d22a90>"
            ]
          },
          "metadata": {
            "tags": []
          },
          "execution_count": 34
        },
        {
          "output_type": "display_data",
          "data": {
            "image/png": "[encoded data removed]",
            "text/plain": [
              "<Figure size 1080x576 with 1 Axes>"
            ]
          },
          "metadata": {
            "tags": [],
            "needs_background": "light"
          }
        }
      ]
    },
    {
      "cell_type": "code",
      "metadata": {
        "id": "zGYpfjG2-NT7"
      },
      "source": [
        "#Fill the missing values with toyota\n",
        "all_data['Subject_Car_Make'].fillna('TOYOTA', inplace=True)"
      ],
      "execution_count": null,
      "outputs": []
    },
    {
      "cell_type": "code",
      "metadata": {
        "colab": {
          "base_uri": "https://localhost:8080/"
        },
        "id": "M0OovAma-NT7",
        "outputId": "62f4c34f-f52e-4a32-bb49-f51918aa3d0e"
      },
      "source": [
        "all_data['Subject_Car_Make'].value_counts().head(10)"
      ],
      "execution_count": null,
      "outputs": [
        {
          "output_type": "execute_result",
          "data": {
            "text/plain": [
              "TOYOTA        8251\n",
              "Honda         1146\n",
              "Lexus          654\n",
              "Mercedes       577\n",
              "Hyundai        512\n",
              "Kia            375\n",
              "Ford           307\n",
              "Nissan         275\n",
              "Volkswagen     133\n",
              "Iveco          129\n",
              "Name: Subject_Car_Make, dtype: int64"
            ]
          },
          "metadata": {
            "tags": []
          },
          "execution_count": 36
        }
      ]
    },
    {
      "cell_type": "code",
      "metadata": {
        "colab": {
          "base_uri": "https://localhost:8080/"
        },
        "id": "nIPPjfXB-NT8",
        "outputId": "84c4f207-8c36-4d1d-9c1e-099f6caf00ee"
      },
      "source": [
        "all_data.isnull().sum()"
      ],
      "execution_count": null,
      "outputs": [
        {
          "output_type": "execute_result",
          "data": {
            "text/plain": [
              "ID                           0\n",
              "Policy Start Date            0\n",
              "Policy End Date              0\n",
              "Gender                       0\n",
              "Age                          0\n",
              "First Transaction Date       0\n",
              "No_Pol                       0\n",
              "Car_Category              4110\n",
              "Subject_Car_Colour        7659\n",
              "Subject_Car_Make             0\n",
              "LGA_Name                  7132\n",
              "State                     7144\n",
              "ProductName                  0\n",
              "target                    1202\n",
              "dtype: int64"
            ]
          },
          "metadata": {
            "tags": []
          },
          "execution_count": 37
        }
      ]
    },
    {
      "cell_type": "markdown",
      "metadata": {
        "id": "jbVuo4AI-NT8"
      },
      "source": [
        "#### filling null values in Car_Category"
      ]
    },
    {
      "cell_type": "code",
      "metadata": {
        "colab": {
          "base_uri": "https://localhost:8080/"
        },
        "id": "tqi96GK5-NT8",
        "outputId": "8f4b132c-33ab-4ccb-8519-ccf4f0cb86ce"
      },
      "source": [
        "all_data['Car_Category'].value_counts(ascending=True).head(30)"
      ],
      "execution_count": null,
      "outputs": [
        {
          "output_type": "execute_result",
          "data": {
            "text/plain": [
              "CAMRY CAR HIRE                1\n",
              "Tipper Truck                  1\n",
              "Pick Up > 3 Tons              2\n",
              "Van                           3\n",
              "Shape Of Vehicle Chasis       6\n",
              "Station 4 Wheel               6\n",
              "Wagon                        10\n",
              "Mini Van                     13\n",
              "Sedan                        14\n",
              "Motorcycle                   18\n",
              "Pick Up                      32\n",
              "Mini Bus                     45\n",
              "Bus                          56\n",
              "Truck                       108\n",
              "JEEP                       2223\n",
              "Saloon                     6633\n",
              "Name: Car_Category, dtype: int64"
            ]
          },
          "metadata": {
            "tags": []
          },
          "execution_count": 38
        }
      ]
    },
    {
      "cell_type": "code",
      "metadata": {
        "id": "OItX1H_V-NT9"
      },
      "source": [
        "#fill null values with Saloon\n",
        "all_data['Car_Category'].fillna('Saloon',inplace=True)"
      ],
      "execution_count": null,
      "outputs": []
    },
    {
      "cell_type": "code",
      "metadata": {
        "scrolled": true,
        "colab": {
          "base_uri": "https://localhost:8080/"
        },
        "id": "bHSBF7Us-NT9",
        "outputId": "abd5011b-0f26-4d4c-b3a0-bcb61d0355c0"
      },
      "source": [
        "all_data.isnull().sum()"
      ],
      "execution_count": null,
      "outputs": [
        {
          "output_type": "execute_result",
          "data": {
            "text/plain": [
              "ID                           0\n",
              "Policy Start Date            0\n",
              "Policy End Date              0\n",
              "Gender                       0\n",
              "Age                          0\n",
              "First Transaction Date       0\n",
              "No_Pol                       0\n",
              "Car_Category                 0\n",
              "Subject_Car_Colour        7659\n",
              "Subject_Car_Make             0\n",
              "LGA_Name                  7132\n",
              "State                     7144\n",
              "ProductName                  0\n",
              "target                    1202\n",
              "dtype: int64"
            ]
          },
          "metadata": {
            "tags": []
          },
          "execution_count": 40
        }
      ]
    },
    {
      "cell_type": "markdown",
      "metadata": {
        "id": "dBvx5nmH-NT-"
      },
      "source": [
        "#### filling null values in Subject_Car_Colour"
      ]
    },
    {
      "cell_type": "code",
      "metadata": {
        "scrolled": true,
        "colab": {
          "base_uri": "https://localhost:8080/",
          "height": 204
        },
        "id": "tJrdnrvq-NT_",
        "outputId": "2c47e3bf-85bc-4944-e3c0-c04f9dbc1087"
      },
      "source": [
        "all_data[[\"Subject_Car_Colour\"]].head()"
      ],
      "execution_count": null,
      "outputs": [
        {
          "output_type": "execute_result",
          "data": {
            "text/html": [
              "<div>\n",
              "<style scoped>\n",
              "    .dataframe tbody tr th:only-of-type {\n",
              "        vertical-align: middle;\n",
              "    }\n",
              "\n",
              "    .dataframe tbody tr th {\n",
              "        vertical-align: top;\n",
              "    }\n",
              "\n",
              "    .dataframe thead th {\n",
              "        text-align: right;\n",
              "    }\n",
              "</style>\n",
              "<table border=\"1\" class=\"dataframe\">\n",
              "  <thead>\n",
              "    <tr style=\"text-align: right;\">\n",
              "      <th></th>\n",
              "      <th>Subject_Car_Colour</th>\n",
              "    </tr>\n",
              "  </thead>\n",
              "  <tbody>\n",
              "    <tr>\n",
              "      <th>0</th>\n",
              "      <td>Black</td>\n",
              "    </tr>\n",
              "    <tr>\n",
              "      <th>1</th>\n",
              "      <td>Grey</td>\n",
              "    </tr>\n",
              "    <tr>\n",
              "      <th>2</th>\n",
              "      <td>Red</td>\n",
              "    </tr>\n",
              "    <tr>\n",
              "      <th>3</th>\n",
              "      <td>NaN</td>\n",
              "    </tr>\n",
              "    <tr>\n",
              "      <th>4</th>\n",
              "      <td>NaN</td>\n",
              "    </tr>\n",
              "  </tbody>\n",
              "</table>\n",
              "</div>"
            ],
            "text/plain": [
              "  Subject_Car_Colour\n",
              "0              Black\n",
              "1               Grey\n",
              "2                Red\n",
              "3                NaN\n",
              "4                NaN"
            ]
          },
          "metadata": {
            "tags": []
          },
          "execution_count": 41
        }
      ]
    },
    {
      "cell_type": "code",
      "metadata": {
        "scrolled": true,
        "colab": {
          "base_uri": "https://localhost:8080/"
        },
        "id": "ij58K-XJ-NUA",
        "outputId": "532aa335-4a8c-4dcc-a655-5f71ed7e7f75"
      },
      "source": [
        "all_data[\"Subject_Car_Colour\"].value_counts().head(60)"
      ],
      "execution_count": null,
      "outputs": [
        {
          "output_type": "execute_result",
          "data": {
            "text/plain": [
              "Black             2057\n",
              "Silver             605\n",
              "Grey               565\n",
              "As Attached        555\n",
              "Blue               398\n",
              "White              321\n",
              "Red                274\n",
              "Green              259\n",
              "Gold               192\n",
              "Ash                142\n",
              "Wine               101\n",
              "Brown               65\n",
              "Cream               10\n",
              "Yellow               8\n",
              "Dark Gray            7\n",
              "Orange               5\n",
              "White & Blue         5\n",
              "B.Silver             4\n",
              "Purple               4\n",
              "Red & White          4\n",
              "Blue & Red           3\n",
              "D. Red               3\n",
              "Light Green          3\n",
              "Dark Grey            3\n",
              "Black & Orange       2\n",
              "Black & White        2\n",
              "Gray & Silver        2\n",
              "Dark Blue            2\n",
              "White & Red          2\n",
              "Red & Black          2\n",
              "Gray & Gray          2\n",
              "Blue&White&Red       1\n",
              "White & Yellow       1\n",
              "Beige Mitalic        1\n",
              "Blue Sky             1\n",
              "Red & Yellow         1\n",
              "Burgundy             1\n",
              "Champagne            1\n",
              "D. Gold              1\n",
              "Dark Green           1\n",
              "Dark Red             1\n",
              "Light Blue           1\n",
              "Light Gray           1\n",
              "Red Maroon           1\n",
              "Red & Blue           1\n",
              "Yellow & White       1\n",
              "Name: Subject_Car_Colour, dtype: int64"
            ]
          },
          "metadata": {
            "tags": []
          },
          "execution_count": 42
        }
      ]
    },
    {
      "cell_type": "code",
      "metadata": {
        "id": "j6A3RQtb-NUB"
      },
      "source": [
        "all_data[\"Subject_Car_Colour\"].replace({\"As Attached\":np.nan}, inplace=True)"
      ],
      "execution_count": null,
      "outputs": []
    },
    {
      "cell_type": "code",
      "metadata": {
        "scrolled": true,
        "colab": {
          "base_uri": "https://localhost:8080/"
        },
        "id": "Bf9-Sdmb-NUC",
        "outputId": "09560cec-b7d3-4e30-855f-7012648b01e6"
      },
      "source": [
        "all_data.isnull().sum()"
      ],
      "execution_count": null,
      "outputs": [
        {
          "output_type": "execute_result",
          "data": {
            "text/plain": [
              "ID                           0\n",
              "Policy Start Date            0\n",
              "Policy End Date              0\n",
              "Gender                       0\n",
              "Age                          0\n",
              "First Transaction Date       0\n",
              "No_Pol                       0\n",
              "Car_Category                 0\n",
              "Subject_Car_Colour        8214\n",
              "Subject_Car_Make             0\n",
              "LGA_Name                  7132\n",
              "State                     7144\n",
              "ProductName                  0\n",
              "target                    1202\n",
              "dtype: int64"
            ]
          },
          "metadata": {
            "tags": []
          },
          "execution_count": 44
        }
      ]
    },
    {
      "cell_type": "code",
      "metadata": {
        "id": "6UqM7jhC-NUC"
      },
      "source": [
        "#filling the missing values with black\n",
        "all_data['Subject_Car_Colour'].fillna('Black', inplace=True)"
      ],
      "execution_count": null,
      "outputs": []
    },
    {
      "cell_type": "code",
      "metadata": {
        "colab": {
          "base_uri": "https://localhost:8080/"
        },
        "id": "tHDCRaVp-NUD",
        "outputId": "aec793eb-ad90-4572-ae44-927cb9fb85e2"
      },
      "source": [
        "all_data.isnull().sum()"
      ],
      "execution_count": null,
      "outputs": [
        {
          "output_type": "execute_result",
          "data": {
            "text/plain": [
              "ID                           0\n",
              "Policy Start Date            0\n",
              "Policy End Date              0\n",
              "Gender                       0\n",
              "Age                          0\n",
              "First Transaction Date       0\n",
              "No_Pol                       0\n",
              "Car_Category                 0\n",
              "Subject_Car_Colour           0\n",
              "Subject_Car_Make             0\n",
              "LGA_Name                  7132\n",
              "State                     7144\n",
              "ProductName                  0\n",
              "target                    1202\n",
              "dtype: int64"
            ]
          },
          "metadata": {
            "tags": []
          },
          "execution_count": 46
        }
      ]
    },
    {
      "cell_type": "markdown",
      "metadata": {
        "id": "0w9HzrU--NUE"
      },
      "source": [
        "#### filling null values in LGA_Name"
      ]
    },
    {
      "cell_type": "code",
      "metadata": {
        "scrolled": true,
        "colab": {
          "base_uri": "https://localhost:8080/"
        },
        "id": "1zVCH9dy-NUE",
        "outputId": "c67ca953-ca09-4323-fb2f-a507d28f7377"
      },
      "source": [
        "all_data['LGA_Name'].value_counts(ascending=True).head(60)"
      ],
      "execution_count": null,
      "outputs": [
        {
          "output_type": "execute_result",
          "data": {
            "text/plain": [
              "Ilesha               1\n",
              "Katcha               1\n",
              "Iwo                  1\n",
              "Isoko south          1\n",
              "Isoko North          1\n",
              "Ilesha East          1\n",
              "Ikwerre              1\n",
              "Ijora                1\n",
              "Ijebu North          1\n",
              "Ijebu East           1\n",
              "Ifako-Agege          1\n",
              "Idemili south        1\n",
              "IJAIYE               1\n",
              "IBA                  1\n",
              "Hong                 1\n",
              "Garki                1\n",
              "Ethiope East         1\n",
              "Essien Udim          1\n",
              "Eleme                1\n",
              "Ekwusigo             1\n",
              "Ekiti South-West     1\n",
              "Eket                 1\n",
              "Ekeremor             1\n",
              "ENUGU SOUTH          1\n",
              "EMENE                1\n",
              "EFFURUN              1\n",
              "Keffi                1\n",
              "Kuje                 1\n",
              "MAGBORO              1\n",
              "Ndokwa East          1\n",
              "Zaria                1\n",
              "Yorro                1\n",
              "Yenagoa              1\n",
              "VGC                  1\n",
              "Ughelli North        1\n",
              "Tai                  1\n",
              "Rogo                 1\n",
              "QuaAn Pan            1\n",
              "Palm Groove          1\n",
              "Oyo West             1\n",
              "Owerri North         1\n",
              "Ovia SouthWest       1\n",
              "Bosso                1\n",
              "Oturkpo              1\n",
              "Orsu                 1\n",
              "Okrika               1\n",
              "Okpokwu              1\n",
              "Ohaukwu              1\n",
              "Ogbomoso             1\n",
              "Ogba/Egbema/Ndoni    1\n",
              "Obalende             1\n",
              "OWODE                1\n",
              "Nwangele             1\n",
              "Nnewi South          1\n",
              "Njaba                1\n",
              "Ngor-Okpala          1\n",
              "Oshimili North       1\n",
              "Bida                 1\n",
              "kumbotso             1\n",
              "Akure North          1\n",
              "Name: LGA_Name, dtype: int64"
            ]
          },
          "metadata": {
            "tags": []
          },
          "execution_count": 47
        }
      ]
    },
    {
      "cell_type": "code",
      "metadata": {
        "scrolled": true,
        "colab": {
          "base_uri": "https://localhost:8080/",
          "height": 452
        },
        "id": "KIqj98pY-NUE",
        "outputId": "4b601e26-01af-4943-91f1-b70482a1fc85"
      },
      "source": [
        "all_data[(all_data[\"LGA_Name\"].isnull() == False) & \n",
        "         (all_data[\"State\"].isnull() == True)][[\"LGA_Name\", \"State\"]].head(60)"
      ],
      "execution_count": null,
      "outputs": [
        {
          "output_type": "execute_result",
          "data": {
            "text/html": [
              "<div>\n",
              "<style scoped>\n",
              "    .dataframe tbody tr th:only-of-type {\n",
              "        vertical-align: middle;\n",
              "    }\n",
              "\n",
              "    .dataframe tbody tr th {\n",
              "        vertical-align: top;\n",
              "    }\n",
              "\n",
              "    .dataframe thead th {\n",
              "        text-align: right;\n",
              "    }\n",
              "</style>\n",
              "<table border=\"1\" class=\"dataframe\">\n",
              "  <thead>\n",
              "    <tr style=\"text-align: right;\">\n",
              "      <th></th>\n",
              "      <th>LGA_Name</th>\n",
              "      <th>State</th>\n",
              "    </tr>\n",
              "  </thead>\n",
              "  <tbody>\n",
              "    <tr>\n",
              "      <th>297</th>\n",
              "      <td>LGA</td>\n",
              "      <td>NaN</td>\n",
              "    </tr>\n",
              "    <tr>\n",
              "      <th>568</th>\n",
              "      <td>LGA</td>\n",
              "      <td>NaN</td>\n",
              "    </tr>\n",
              "    <tr>\n",
              "      <th>1024</th>\n",
              "      <td>LGA</td>\n",
              "      <td>NaN</td>\n",
              "    </tr>\n",
              "    <tr>\n",
              "      <th>1168</th>\n",
              "      <td>LGA</td>\n",
              "      <td>NaN</td>\n",
              "    </tr>\n",
              "    <tr>\n",
              "      <th>1262</th>\n",
              "      <td>LGA</td>\n",
              "      <td>NaN</td>\n",
              "    </tr>\n",
              "    <tr>\n",
              "      <th>2544</th>\n",
              "      <td>LGA</td>\n",
              "      <td>NaN</td>\n",
              "    </tr>\n",
              "    <tr>\n",
              "      <th>3583</th>\n",
              "      <td>LGA</td>\n",
              "      <td>NaN</td>\n",
              "    </tr>\n",
              "    <tr>\n",
              "      <th>4717</th>\n",
              "      <td>LGA</td>\n",
              "      <td>NaN</td>\n",
              "    </tr>\n",
              "    <tr>\n",
              "      <th>7321</th>\n",
              "      <td>LGA</td>\n",
              "      <td>NaN</td>\n",
              "    </tr>\n",
              "    <tr>\n",
              "      <th>7608</th>\n",
              "      <td>LGA</td>\n",
              "      <td>NaN</td>\n",
              "    </tr>\n",
              "    <tr>\n",
              "      <th>10287</th>\n",
              "      <td>LGA</td>\n",
              "      <td>NaN</td>\n",
              "    </tr>\n",
              "    <tr>\n",
              "      <th>11698</th>\n",
              "      <td>LGA</td>\n",
              "      <td>NaN</td>\n",
              "    </tr>\n",
              "    <tr>\n",
              "      <th>11794</th>\n",
              "      <td>LGA</td>\n",
              "      <td>NaN</td>\n",
              "    </tr>\n",
              "  </tbody>\n",
              "</table>\n",
              "</div>"
            ],
            "text/plain": [
              "      LGA_Name State\n",
              "297        LGA   NaN\n",
              "568        LGA   NaN\n",
              "1024       LGA   NaN\n",
              "1168       LGA   NaN\n",
              "1262       LGA   NaN\n",
              "2544       LGA   NaN\n",
              "3583       LGA   NaN\n",
              "4717       LGA   NaN\n",
              "7321       LGA   NaN\n",
              "7608       LGA   NaN\n",
              "10287      LGA   NaN\n",
              "11698      LGA   NaN\n",
              "11794      LGA   NaN"
            ]
          },
          "metadata": {
            "tags": []
          },
          "execution_count": 48
        }
      ]
    },
    {
      "cell_type": "code",
      "metadata": {
        "scrolled": false,
        "colab": {
          "base_uri": "https://localhost:8080/",
          "height": 80
        },
        "id": "IrLZLs8q-NUF",
        "outputId": "b1fada45-8a69-41e4-9f3b-16b34dc5b36d"
      },
      "source": [
        "all_data[(all_data[\"LGA_Name\"].isnull() == True) & \n",
        "         (all_data[\"State\"].isnull() == False)][[\"LGA_Name\", \"State\"]].head(60)"
      ],
      "execution_count": null,
      "outputs": [
        {
          "output_type": "execute_result",
          "data": {
            "text/html": [
              "<div>\n",
              "<style scoped>\n",
              "    .dataframe tbody tr th:only-of-type {\n",
              "        vertical-align: middle;\n",
              "    }\n",
              "\n",
              "    .dataframe tbody tr th {\n",
              "        vertical-align: top;\n",
              "    }\n",
              "\n",
              "    .dataframe thead th {\n",
              "        text-align: right;\n",
              "    }\n",
              "</style>\n",
              "<table border=\"1\" class=\"dataframe\">\n",
              "  <thead>\n",
              "    <tr style=\"text-align: right;\">\n",
              "      <th></th>\n",
              "      <th>LGA_Name</th>\n",
              "      <th>State</th>\n",
              "    </tr>\n",
              "  </thead>\n",
              "  <tbody>\n",
              "    <tr>\n",
              "      <th>9380</th>\n",
              "      <td>NaN</td>\n",
              "      <td>N-A</td>\n",
              "    </tr>\n",
              "  </tbody>\n",
              "</table>\n",
              "</div>"
            ],
            "text/plain": [
              "     LGA_Name State\n",
              "9380      NaN   N-A"
            ]
          },
          "metadata": {
            "tags": []
          },
          "execution_count": 49
        }
      ]
    },
    {
      "cell_type": "code",
      "metadata": {
        "colab": {
          "base_uri": "https://localhost:8080/",
          "height": 80
        },
        "id": "KpMwdxIA-NUG",
        "outputId": "dfd635e1-0c88-4699-c3c0-03332c3a80e9"
      },
      "source": [
        "all_data[(all_data[\"LGA_Name\"].isnull() == True) & \n",
        "         (all_data[\"State\"].isnull() == False)][[\"LGA_Name\", \"State\"]].head(60)"
      ],
      "execution_count": null,
      "outputs": [
        {
          "output_type": "execute_result",
          "data": {
            "text/html": [
              "<div>\n",
              "<style scoped>\n",
              "    .dataframe tbody tr th:only-of-type {\n",
              "        vertical-align: middle;\n",
              "    }\n",
              "\n",
              "    .dataframe tbody tr th {\n",
              "        vertical-align: top;\n",
              "    }\n",
              "\n",
              "    .dataframe thead th {\n",
              "        text-align: right;\n",
              "    }\n",
              "</style>\n",
              "<table border=\"1\" class=\"dataframe\">\n",
              "  <thead>\n",
              "    <tr style=\"text-align: right;\">\n",
              "      <th></th>\n",
              "      <th>LGA_Name</th>\n",
              "      <th>State</th>\n",
              "    </tr>\n",
              "  </thead>\n",
              "  <tbody>\n",
              "    <tr>\n",
              "      <th>9380</th>\n",
              "      <td>NaN</td>\n",
              "      <td>N-A</td>\n",
              "    </tr>\n",
              "  </tbody>\n",
              "</table>\n",
              "</div>"
            ],
            "text/plain": [
              "     LGA_Name State\n",
              "9380      NaN   N-A"
            ]
          },
          "metadata": {
            "tags": []
          },
          "execution_count": 50
        }
      ]
    },
    {
      "cell_type": "code",
      "metadata": {
        "id": "qEf9xbEg-NUG"
      },
      "source": [
        "#replace N-A state with null\n",
        "all_data[\"State\"].replace({\"N-A\":np.nan}, inplace=True)"
      ],
      "execution_count": null,
      "outputs": []
    },
    {
      "cell_type": "code",
      "metadata": {
        "scrolled": true,
        "colab": {
          "base_uri": "https://localhost:8080/",
          "height": 452
        },
        "id": "pSO1a24t-NUG",
        "outputId": "36078f76-a74a-4d3c-92bb-33102bccc7f6"
      },
      "source": [
        "all_data[(all_data[\"LGA_Name\"].isnull() == False) & \n",
        "         (all_data[\"State\"].isnull() == True)][[\"LGA_Name\", \"State\"]].head(60)"
      ],
      "execution_count": null,
      "outputs": [
        {
          "output_type": "execute_result",
          "data": {
            "text/html": [
              "<div>\n",
              "<style scoped>\n",
              "    .dataframe tbody tr th:only-of-type {\n",
              "        vertical-align: middle;\n",
              "    }\n",
              "\n",
              "    .dataframe tbody tr th {\n",
              "        vertical-align: top;\n",
              "    }\n",
              "\n",
              "    .dataframe thead th {\n",
              "        text-align: right;\n",
              "    }\n",
              "</style>\n",
              "<table border=\"1\" class=\"dataframe\">\n",
              "  <thead>\n",
              "    <tr style=\"text-align: right;\">\n",
              "      <th></th>\n",
              "      <th>LGA_Name</th>\n",
              "      <th>State</th>\n",
              "    </tr>\n",
              "  </thead>\n",
              "  <tbody>\n",
              "    <tr>\n",
              "      <th>297</th>\n",
              "      <td>LGA</td>\n",
              "      <td>NaN</td>\n",
              "    </tr>\n",
              "    <tr>\n",
              "      <th>568</th>\n",
              "      <td>LGA</td>\n",
              "      <td>NaN</td>\n",
              "    </tr>\n",
              "    <tr>\n",
              "      <th>1024</th>\n",
              "      <td>LGA</td>\n",
              "      <td>NaN</td>\n",
              "    </tr>\n",
              "    <tr>\n",
              "      <th>1168</th>\n",
              "      <td>LGA</td>\n",
              "      <td>NaN</td>\n",
              "    </tr>\n",
              "    <tr>\n",
              "      <th>1262</th>\n",
              "      <td>LGA</td>\n",
              "      <td>NaN</td>\n",
              "    </tr>\n",
              "    <tr>\n",
              "      <th>2544</th>\n",
              "      <td>LGA</td>\n",
              "      <td>NaN</td>\n",
              "    </tr>\n",
              "    <tr>\n",
              "      <th>3583</th>\n",
              "      <td>LGA</td>\n",
              "      <td>NaN</td>\n",
              "    </tr>\n",
              "    <tr>\n",
              "      <th>4717</th>\n",
              "      <td>LGA</td>\n",
              "      <td>NaN</td>\n",
              "    </tr>\n",
              "    <tr>\n",
              "      <th>7321</th>\n",
              "      <td>LGA</td>\n",
              "      <td>NaN</td>\n",
              "    </tr>\n",
              "    <tr>\n",
              "      <th>7608</th>\n",
              "      <td>LGA</td>\n",
              "      <td>NaN</td>\n",
              "    </tr>\n",
              "    <tr>\n",
              "      <th>10287</th>\n",
              "      <td>LGA</td>\n",
              "      <td>NaN</td>\n",
              "    </tr>\n",
              "    <tr>\n",
              "      <th>11698</th>\n",
              "      <td>LGA</td>\n",
              "      <td>NaN</td>\n",
              "    </tr>\n",
              "    <tr>\n",
              "      <th>11794</th>\n",
              "      <td>LGA</td>\n",
              "      <td>NaN</td>\n",
              "    </tr>\n",
              "  </tbody>\n",
              "</table>\n",
              "</div>"
            ],
            "text/plain": [
              "      LGA_Name State\n",
              "297        LGA   NaN\n",
              "568        LGA   NaN\n",
              "1024       LGA   NaN\n",
              "1168       LGA   NaN\n",
              "1262       LGA   NaN\n",
              "2544       LGA   NaN\n",
              "3583       LGA   NaN\n",
              "4717       LGA   NaN\n",
              "7321       LGA   NaN\n",
              "7608       LGA   NaN\n",
              "10287      LGA   NaN\n",
              "11698      LGA   NaN\n",
              "11794      LGA   NaN"
            ]
          },
          "metadata": {
            "tags": []
          },
          "execution_count": 52
        }
      ]
    },
    {
      "cell_type": "code",
      "metadata": {
        "id": "FhrmsJcU-NUH"
      },
      "source": [
        "#There is no LGA_Name called LGA hence we replace with null value\n",
        "all_data[\"LGA_Name\"].replace({\"LGA\":np.nan}, inplace=True)"
      ],
      "execution_count": null,
      "outputs": []
    },
    {
      "cell_type": "code",
      "metadata": {
        "colab": {
          "base_uri": "https://localhost:8080/",
          "height": 49
        },
        "id": "DJWBlni3-NUH",
        "outputId": "972cfb5d-f797-497a-a05d-292ec6cd232b"
      },
      "source": [
        "all_data[(all_data[\"LGA_Name\"].isnull() == False) & \n",
        "         (all_data[\"State\"].isnull() == True)][[\"LGA_Name\", \"State\"]].head(60)"
      ],
      "execution_count": null,
      "outputs": [
        {
          "output_type": "execute_result",
          "data": {
            "text/html": [
              "<div>\n",
              "<style scoped>\n",
              "    .dataframe tbody tr th:only-of-type {\n",
              "        vertical-align: middle;\n",
              "    }\n",
              "\n",
              "    .dataframe tbody tr th {\n",
              "        vertical-align: top;\n",
              "    }\n",
              "\n",
              "    .dataframe thead th {\n",
              "        text-align: right;\n",
              "    }\n",
              "</style>\n",
              "<table border=\"1\" class=\"dataframe\">\n",
              "  <thead>\n",
              "    <tr style=\"text-align: right;\">\n",
              "      <th></th>\n",
              "      <th>LGA_Name</th>\n",
              "      <th>State</th>\n",
              "    </tr>\n",
              "  </thead>\n",
              "  <tbody>\n",
              "  </tbody>\n",
              "</table>\n",
              "</div>"
            ],
            "text/plain": [
              "Empty DataFrame\n",
              "Columns: [LGA_Name, State]\n",
              "Index: []"
            ]
          },
          "metadata": {
            "tags": []
          },
          "execution_count": 54
        }
      ]
    },
    {
      "cell_type": "code",
      "metadata": {
        "colab": {
          "base_uri": "https://localhost:8080/",
          "height": 204
        },
        "id": "Bv3IyJG4-NUI",
        "outputId": "32fd034f-6abc-46ec-ab8c-c0f55e7f219e"
      },
      "source": [
        "all_data[(all_data[\"LGA_Name\"].isnull() == True) & \n",
        "         (all_data[\"State\"].isnull() == True)][[\"LGA_Name\", \"State\"]].head()"
      ],
      "execution_count": null,
      "outputs": [
        {
          "output_type": "execute_result",
          "data": {
            "text/html": [
              "<div>\n",
              "<style scoped>\n",
              "    .dataframe tbody tr th:only-of-type {\n",
              "        vertical-align: middle;\n",
              "    }\n",
              "\n",
              "    .dataframe tbody tr th {\n",
              "        vertical-align: top;\n",
              "    }\n",
              "\n",
              "    .dataframe thead th {\n",
              "        text-align: right;\n",
              "    }\n",
              "</style>\n",
              "<table border=\"1\" class=\"dataframe\">\n",
              "  <thead>\n",
              "    <tr style=\"text-align: right;\">\n",
              "      <th></th>\n",
              "      <th>LGA_Name</th>\n",
              "      <th>State</th>\n",
              "    </tr>\n",
              "  </thead>\n",
              "  <tbody>\n",
              "    <tr>\n",
              "      <th>0</th>\n",
              "      <td>NaN</td>\n",
              "      <td>NaN</td>\n",
              "    </tr>\n",
              "    <tr>\n",
              "      <th>1</th>\n",
              "      <td>NaN</td>\n",
              "      <td>NaN</td>\n",
              "    </tr>\n",
              "    <tr>\n",
              "      <th>2</th>\n",
              "      <td>NaN</td>\n",
              "      <td>NaN</td>\n",
              "    </tr>\n",
              "    <tr>\n",
              "      <th>3</th>\n",
              "      <td>NaN</td>\n",
              "      <td>NaN</td>\n",
              "    </tr>\n",
              "    <tr>\n",
              "      <th>5</th>\n",
              "      <td>NaN</td>\n",
              "      <td>NaN</td>\n",
              "    </tr>\n",
              "  </tbody>\n",
              "</table>\n",
              "</div>"
            ],
            "text/plain": [
              "  LGA_Name State\n",
              "0      NaN   NaN\n",
              "1      NaN   NaN\n",
              "2      NaN   NaN\n",
              "3      NaN   NaN\n",
              "5      NaN   NaN"
            ]
          },
          "metadata": {
            "tags": []
          },
          "execution_count": 55
        }
      ]
    },
    {
      "cell_type": "code",
      "metadata": {
        "colab": {
          "base_uri": "https://localhost:8080/"
        },
        "id": "tjPrfNzr-NUI",
        "outputId": "5863af75-4725-4094-c74f-c9561511485b"
      },
      "source": [
        "all_data[\"LGA_Name\"].value_counts()"
      ],
      "execution_count": null,
      "outputs": [
        {
          "output_type": "execute_result",
          "data": {
            "text/plain": [
              "Victoria Island    1284\n",
              "Ikeja               438\n",
              "Surulere            306\n",
              "Abuja Municipal     257\n",
              "Lagos Mainland      245\n",
              "                   ... \n",
              "Katcha                1\n",
              "Rogo                  1\n",
              "Bekwara               1\n",
              "Owerri North          1\n",
              "Yorro                 1\n",
              "Name: LGA_Name, Length: 269, dtype: int64"
            ]
          },
          "metadata": {
            "tags": []
          },
          "execution_count": 56
        }
      ]
    },
    {
      "cell_type": "code",
      "metadata": {
        "colab": {
          "base_uri": "https://localhost:8080/"
        },
        "id": "ntAwA7KH-NUJ",
        "outputId": "bd5c4429-3694-4b8a-f33f-315fa280b003"
      },
      "source": [
        "all_data[\"State\"].value_counts()"
      ],
      "execution_count": null,
      "outputs": [
        {
          "output_type": "execute_result",
          "data": {
            "text/plain": [
              "Lagos              3494\n",
              "Benue               693\n",
              "Abuja-Municipal     257\n",
              "Eti-Osa             241\n",
              "Ibeju-Lekki         129\n",
              "                   ... \n",
              "Ijebu-North           1\n",
              "Essien-Udim           1\n",
              "Isoko-North           1\n",
              "Bayelsa               1\n",
              "Ogba-Ndoni            1\n",
              "Name: State, Length: 112, dtype: int64"
            ]
          },
          "metadata": {
            "tags": []
          },
          "execution_count": 57
        }
      ]
    },
    {
      "cell_type": "code",
      "metadata": {
        "scrolled": true,
        "id": "bEy-B-hM-NUJ"
      },
      "source": [
        "#Fill missing values with mode\n",
        "all_data[\"State\"].fillna(\"Lagos\",inplace=True)\n",
        "all_data[\"LGA_Name\"].fillna(\"Victoria Island\", inplace=True)"
      ],
      "execution_count": null,
      "outputs": []
    },
    {
      "cell_type": "code",
      "metadata": {
        "colab": {
          "base_uri": "https://localhost:8080/"
        },
        "id": "uaSC7zSj-NUK",
        "outputId": "c13947c0-8073-497f-f580-e3d3c1ce29cb"
      },
      "source": [
        "all_data[[\"LGA_Name\",\"State\"]].isnull().sum()"
      ],
      "execution_count": null,
      "outputs": [
        {
          "output_type": "execute_result",
          "data": {
            "text/plain": [
              "LGA_Name    0\n",
              "State       0\n",
              "dtype: int64"
            ]
          },
          "metadata": {
            "tags": []
          },
          "execution_count": 59
        }
      ]
    },
    {
      "cell_type": "code",
      "metadata": {
        "scrolled": true,
        "colab": {
          "base_uri": "https://localhost:8080/",
          "height": 204
        },
        "id": "pjXCY0mU-NUK",
        "outputId": "b4778d23-117a-4d52-fcfa-c745d32ce47d"
      },
      "source": [
        "#Combining the LGA_NAME and state columns\n",
        "all_data[\"LGA_Name_State\"] = all_data[\"LGA_Name\"] + \"_\" + all_data[\"State\"]\n",
        "all_data[[\"LGA_Name_State\",\"LGA_Name\",\"State\"]].head()"
      ],
      "execution_count": null,
      "outputs": [
        {
          "output_type": "execute_result",
          "data": {
            "text/html": [
              "<div>\n",
              "<style scoped>\n",
              "    .dataframe tbody tr th:only-of-type {\n",
              "        vertical-align: middle;\n",
              "    }\n",
              "\n",
              "    .dataframe tbody tr th {\n",
              "        vertical-align: top;\n",
              "    }\n",
              "\n",
              "    .dataframe thead th {\n",
              "        text-align: right;\n",
              "    }\n",
              "</style>\n",
              "<table border=\"1\" class=\"dataframe\">\n",
              "  <thead>\n",
              "    <tr style=\"text-align: right;\">\n",
              "      <th></th>\n",
              "      <th>LGA_Name_State</th>\n",
              "      <th>LGA_Name</th>\n",
              "      <th>State</th>\n",
              "    </tr>\n",
              "  </thead>\n",
              "  <tbody>\n",
              "    <tr>\n",
              "      <th>0</th>\n",
              "      <td>Victoria Island_Lagos</td>\n",
              "      <td>Victoria Island</td>\n",
              "      <td>Lagos</td>\n",
              "    </tr>\n",
              "    <tr>\n",
              "      <th>1</th>\n",
              "      <td>Victoria Island_Lagos</td>\n",
              "      <td>Victoria Island</td>\n",
              "      <td>Lagos</td>\n",
              "    </tr>\n",
              "    <tr>\n",
              "      <th>2</th>\n",
              "      <td>Victoria Island_Lagos</td>\n",
              "      <td>Victoria Island</td>\n",
              "      <td>Lagos</td>\n",
              "    </tr>\n",
              "    <tr>\n",
              "      <th>3</th>\n",
              "      <td>Victoria Island_Lagos</td>\n",
              "      <td>Victoria Island</td>\n",
              "      <td>Lagos</td>\n",
              "    </tr>\n",
              "    <tr>\n",
              "      <th>4</th>\n",
              "      <td>Lagos_Lagos</td>\n",
              "      <td>Lagos</td>\n",
              "      <td>Lagos</td>\n",
              "    </tr>\n",
              "  </tbody>\n",
              "</table>\n",
              "</div>"
            ],
            "text/plain": [
              "          LGA_Name_State         LGA_Name  State\n",
              "0  Victoria Island_Lagos  Victoria Island  Lagos\n",
              "1  Victoria Island_Lagos  Victoria Island  Lagos\n",
              "2  Victoria Island_Lagos  Victoria Island  Lagos\n",
              "3  Victoria Island_Lagos  Victoria Island  Lagos\n",
              "4            Lagos_Lagos            Lagos  Lagos"
            ]
          },
          "metadata": {
            "tags": []
          },
          "execution_count": 60
        }
      ]
    },
    {
      "cell_type": "code",
      "metadata": {
        "colab": {
          "base_uri": "https://localhost:8080/"
        },
        "id": "N-cqVtKi-NUL",
        "outputId": "56ee4670-6e10-4fe8-8cb4-36982c315309"
      },
      "source": [
        "all_data[\"LGA_Name_State\"].value_counts()"
      ],
      "execution_count": null,
      "outputs": [
        {
          "output_type": "execute_result",
          "data": {
            "text/plain": [
              "Victoria Island_Lagos              8429\n",
              "Ikeja_Lagos                         438\n",
              "Surulere_Lagos                      306\n",
              "Abuja Municipal_Abuja-Municipal     257\n",
              "Lagos Mainland_Lagos                245\n",
              "                                   ... \n",
              "Hong_Benue                            1\n",
              "OWODE_Benue                           1\n",
              "Tai _Benue                            1\n",
              "Eleme_Benue                           1\n",
              "kumbotso_Benue                        1\n",
              "Name: LGA_Name_State, Length: 270, dtype: int64"
            ]
          },
          "metadata": {
            "tags": []
          },
          "execution_count": 61
        }
      ]
    },
    {
      "cell_type": "markdown",
      "metadata": {
        "id": "y22uzy7I-NUL"
      },
      "source": [
        "# Policy length dates"
      ]
    },
    {
      "cell_type": "code",
      "metadata": {
        "id": "3UbqMRuS-NUL"
      },
      "source": [
        "all_data['policy_length'] = (pd.to_datetime(all_data['Policy End Date'], format='%Y-%m-%d') - \n",
        "                             pd.to_datetime(all_data['Policy Start Date'], format='%Y-%m-%d'))/ np.timedelta64(1, 'M')"
      ],
      "execution_count": null,
      "outputs": []
    },
    {
      "cell_type": "code",
      "metadata": {
        "colab": {
          "base_uri": "https://localhost:8080/",
          "height": 343
        },
        "id": "YyjM1FAg-NUM",
        "outputId": "1ff94bf7-bb5a-42cc-a875-8a51419441e3"
      },
      "source": [
        "all_data.head()"
      ],
      "execution_count": null,
      "outputs": [
        {
          "output_type": "execute_result",
          "data": {
            "text/html": [
              "<div>\n",
              "<style scoped>\n",
              "    .dataframe tbody tr th:only-of-type {\n",
              "        vertical-align: middle;\n",
              "    }\n",
              "\n",
              "    .dataframe tbody tr th {\n",
              "        vertical-align: top;\n",
              "    }\n",
              "\n",
              "    .dataframe thead th {\n",
              "        text-align: right;\n",
              "    }\n",
              "</style>\n",
              "<table border=\"1\" class=\"dataframe\">\n",
              "  <thead>\n",
              "    <tr style=\"text-align: right;\">\n",
              "      <th></th>\n",
              "      <th>ID</th>\n",
              "      <th>Policy Start Date</th>\n",
              "      <th>Policy End Date</th>\n",
              "      <th>Gender</th>\n",
              "      <th>Age</th>\n",
              "      <th>First Transaction Date</th>\n",
              "      <th>No_Pol</th>\n",
              "      <th>Car_Category</th>\n",
              "      <th>Subject_Car_Colour</th>\n",
              "      <th>Subject_Car_Make</th>\n",
              "      <th>LGA_Name</th>\n",
              "      <th>State</th>\n",
              "      <th>ProductName</th>\n",
              "      <th>target</th>\n",
              "      <th>LGA_Name_State</th>\n",
              "      <th>policy_length</th>\n",
              "    </tr>\n",
              "  </thead>\n",
              "  <tbody>\n",
              "    <tr>\n",
              "      <th>0</th>\n",
              "      <td>ID_0040R73</td>\n",
              "      <td>2010-05-14</td>\n",
              "      <td>2011-05-13</td>\n",
              "      <td>Male</td>\n",
              "      <td>30</td>\n",
              "      <td>2010-05-14</td>\n",
              "      <td>1</td>\n",
              "      <td>Saloon</td>\n",
              "      <td>Black</td>\n",
              "      <td>TOYOTA</td>\n",
              "      <td>Victoria Island</td>\n",
              "      <td>Lagos</td>\n",
              "      <td>Car Classic</td>\n",
              "      <td>0.0</td>\n",
              "      <td>Victoria Island_Lagos</td>\n",
              "      <td>11.959178</td>\n",
              "    </tr>\n",
              "    <tr>\n",
              "      <th>1</th>\n",
              "      <td>ID_0046BNK</td>\n",
              "      <td>2010-11-29</td>\n",
              "      <td>2011-11-28</td>\n",
              "      <td>Female</td>\n",
              "      <td>79</td>\n",
              "      <td>2010-11-29</td>\n",
              "      <td>1</td>\n",
              "      <td>JEEP</td>\n",
              "      <td>Grey</td>\n",
              "      <td>TOYOTA</td>\n",
              "      <td>Victoria Island</td>\n",
              "      <td>Lagos</td>\n",
              "      <td>Car Classic</td>\n",
              "      <td>1.0</td>\n",
              "      <td>Victoria Island_Lagos</td>\n",
              "      <td>11.959178</td>\n",
              "    </tr>\n",
              "    <tr>\n",
              "      <th>2</th>\n",
              "      <td>ID_005QMC3</td>\n",
              "      <td>2010-03-21</td>\n",
              "      <td>2011-03-20</td>\n",
              "      <td>Male</td>\n",
              "      <td>43</td>\n",
              "      <td>2010-03-21</td>\n",
              "      <td>1</td>\n",
              "      <td>Saloon</td>\n",
              "      <td>Red</td>\n",
              "      <td>TOYOTA</td>\n",
              "      <td>Victoria Island</td>\n",
              "      <td>Lagos</td>\n",
              "      <td>Car Classic</td>\n",
              "      <td>0.0</td>\n",
              "      <td>Victoria Island_Lagos</td>\n",
              "      <td>11.959178</td>\n",
              "    </tr>\n",
              "    <tr>\n",
              "      <th>3</th>\n",
              "      <td>ID_0079OHW</td>\n",
              "      <td>2010-08-21</td>\n",
              "      <td>2011-08-20</td>\n",
              "      <td>Male</td>\n",
              "      <td>2</td>\n",
              "      <td>2010-08-21</td>\n",
              "      <td>1</td>\n",
              "      <td>Saloon</td>\n",
              "      <td>Black</td>\n",
              "      <td>TOYOTA</td>\n",
              "      <td>Victoria Island</td>\n",
              "      <td>Lagos</td>\n",
              "      <td>CarSafe</td>\n",
              "      <td>0.0</td>\n",
              "      <td>Victoria Island_Lagos</td>\n",
              "      <td>11.959178</td>\n",
              "    </tr>\n",
              "    <tr>\n",
              "      <th>4</th>\n",
              "      <td>ID_00BRP63</td>\n",
              "      <td>2010-08-29</td>\n",
              "      <td>2010-12-31</td>\n",
              "      <td>Other</td>\n",
              "      <td>20</td>\n",
              "      <td>2010-08-29</td>\n",
              "      <td>3</td>\n",
              "      <td>Saloon</td>\n",
              "      <td>Black</td>\n",
              "      <td>TOYOTA</td>\n",
              "      <td>Lagos</td>\n",
              "      <td>Lagos</td>\n",
              "      <td>Muuve</td>\n",
              "      <td>1.0</td>\n",
              "      <td>Lagos_Lagos</td>\n",
              "      <td>4.074006</td>\n",
              "    </tr>\n",
              "  </tbody>\n",
              "</table>\n",
              "</div>"
            ],
            "text/plain": [
              "           ID Policy Start Date  ...         LGA_Name_State policy_length\n",
              "0  ID_0040R73        2010-05-14  ...  Victoria Island_Lagos     11.959178\n",
              "1  ID_0046BNK        2010-11-29  ...  Victoria Island_Lagos     11.959178\n",
              "2  ID_005QMC3        2010-03-21  ...  Victoria Island_Lagos     11.959178\n",
              "3  ID_0079OHW        2010-08-21  ...  Victoria Island_Lagos     11.959178\n",
              "4  ID_00BRP63        2010-08-29  ...            Lagos_Lagos      4.074006\n",
              "\n",
              "[5 rows x 16 columns]"
            ]
          },
          "metadata": {
            "tags": []
          },
          "execution_count": 63
        }
      ]
    },
    {
      "cell_type": "code",
      "metadata": {
        "colab": {
          "base_uri": "https://localhost:8080/"
        },
        "id": "HAlVeKvw-NUM",
        "outputId": "f8d22fe9-e9d8-49e3-87bf-6273b6509880"
      },
      "source": [
        "all_data.isnull().sum()"
      ],
      "execution_count": null,
      "outputs": [
        {
          "output_type": "execute_result",
          "data": {
            "text/plain": [
              "ID                           0\n",
              "Policy Start Date            0\n",
              "Policy End Date              0\n",
              "Gender                       0\n",
              "Age                          0\n",
              "First Transaction Date       0\n",
              "No_Pol                       0\n",
              "Car_Category                 0\n",
              "Subject_Car_Colour           0\n",
              "Subject_Car_Make             0\n",
              "LGA_Name                     0\n",
              "State                        0\n",
              "ProductName                  0\n",
              "target                    1202\n",
              "LGA_Name_State               0\n",
              "policy_length                0\n",
              "dtype: int64"
            ]
          },
          "metadata": {
            "tags": []
          },
          "execution_count": 64
        }
      ]
    },
    {
      "cell_type": "markdown",
      "metadata": {
        "id": "E68JNbUC0t4O"
      },
      "source": [
        "### Encode the Statistical Data Type"
      ]
    },
    {
      "cell_type": "code",
      "metadata": {
        "colab": {
          "base_uri": "https://localhost:8080/"
        },
        "id": "LVc5APRFzqKW",
        "scrolled": true,
        "outputId": "4f0a6923-b566-47bd-8ea3-a6e746aa133a"
      },
      "source": [
        "all_data.info()"
      ],
      "execution_count": null,
      "outputs": [
        {
          "output_type": "stream",
          "text": [
            "<class 'pandas.core.frame.DataFrame'>\n",
            "RangeIndex: 13281 entries, 0 to 13280\n",
            "Data columns (total 16 columns):\n",
            " #   Column                  Non-Null Count  Dtype         \n",
            "---  ------                  --------------  -----         \n",
            " 0   ID                      13281 non-null  object        \n",
            " 1   Policy Start Date       13281 non-null  datetime64[ns]\n",
            " 2   Policy End Date         13281 non-null  datetime64[ns]\n",
            " 3   Gender                  13281 non-null  object        \n",
            " 4   Age                     13281 non-null  int64         \n",
            " 5   First Transaction Date  13281 non-null  datetime64[ns]\n",
            " 6   No_Pol                  13281 non-null  int64         \n",
            " 7   Car_Category            13281 non-null  category      \n",
            " 8   Subject_Car_Colour      13281 non-null  object        \n",
            " 9   Subject_Car_Make        13281 non-null  object        \n",
            " 10  LGA_Name                13281 non-null  object        \n",
            " 11  State                   13281 non-null  object        \n",
            " 12  ProductName             13281 non-null  category      \n",
            " 13  target                  12079 non-null  float64       \n",
            " 14  LGA_Name_State          13281 non-null  object        \n",
            " 15  policy_length           13281 non-null  float64       \n",
            "dtypes: category(2), datetime64[ns](3), float64(2), int64(2), object(7)\n",
            "memory usage: 1.4+ MB\n"
          ],
          "name": "stdout"
        }
      ]
    },
    {
      "cell_type": "code",
      "metadata": {
        "scrolled": true,
        "colab": {
          "base_uri": "https://localhost:8080/"
        },
        "id": "CH1pJ7Cm-NUO",
        "outputId": "013c5ef5-96ae-4993-8a8d-40f84e9287fe"
      },
      "source": [
        "#Changing each column to appropriate datatype\n",
        "date_cols = [col for col in all_data.columns if 'Date' in col]\n",
        "num_cols = ['Age', 'No_Pol', 'policy_length']\n",
        "cat_cols = [col for col in all_data.columns if col not in date_cols+num_cols+['ID','target']]\n",
        "\n",
        "for col in all_data.columns:\n",
        "  if col in date_cols:\n",
        "    all_data[col] = pd.to_datetime(all_data[col])\n",
        "  elif col in cat_cols:\n",
        "    all_data[col] = all_data[col].astype('category')\n",
        "\n",
        "#Confirming wether the changes have been applied\n",
        "all_data.info()"
      ],
      "execution_count": null,
      "outputs": [
        {
          "output_type": "stream",
          "text": [
            "<class 'pandas.core.frame.DataFrame'>\n",
            "RangeIndex: 13281 entries, 0 to 13280\n",
            "Data columns (total 16 columns):\n",
            " #   Column                  Non-Null Count  Dtype         \n",
            "---  ------                  --------------  -----         \n",
            " 0   ID                      13281 non-null  object        \n",
            " 1   Policy Start Date       13281 non-null  datetime64[ns]\n",
            " 2   Policy End Date         13281 non-null  datetime64[ns]\n",
            " 3   Gender                  13281 non-null  category      \n",
            " 4   Age                     13281 non-null  int64         \n",
            " 5   First Transaction Date  13281 non-null  datetime64[ns]\n",
            " 6   No_Pol                  13281 non-null  int64         \n",
            " 7   Car_Category            13281 non-null  category      \n",
            " 8   Subject_Car_Colour      13281 non-null  category      \n",
            " 9   Subject_Car_Make        13281 non-null  category      \n",
            " 10  LGA_Name                13281 non-null  category      \n",
            " 11  State                   13281 non-null  category      \n",
            " 12  ProductName             13281 non-null  category      \n",
            " 13  target                  12079 non-null  float64       \n",
            " 14  LGA_Name_State          13281 non-null  category      \n",
            " 15  policy_length           13281 non-null  float64       \n",
            "dtypes: category(8), datetime64[ns](3), float64(2), int64(2), object(1)\n",
            "memory usage: 995.9+ KB\n"
          ],
          "name": "stdout"
        }
      ]
    },
    {
      "cell_type": "code",
      "metadata": {
        "id": "jxpUh-d-3pbp"
      },
      "source": [
        "#The nominative (unordered) categorical features\n",
        "features_nom = [\"Gender\", \"Car_Category\", \"Subject_Car_Colour\", \"Subject_Car_Make\", \"ProductName\",\"LGA_Name_State\"]"
      ],
      "execution_count": null,
      "outputs": []
    },
    {
      "cell_type": "code",
      "metadata": {
        "id": "qeJngQl0-NUP"
      },
      "source": [
        "from pandas.api.types import CategoricalDtype\n",
        "\n",
        "for name in features_nom:\n",
        "    all_data[name] = all_data[name].astype(CategoricalDtype())"
      ],
      "execution_count": null,
      "outputs": []
    },
    {
      "cell_type": "code",
      "metadata": {
        "scrolled": true,
        "colab": {
          "base_uri": "https://localhost:8080/",
          "height": 343
        },
        "id": "5qQZ92TA-NUP",
        "outputId": "51baf83f-d78b-42bb-d57b-9ee3e36ef611"
      },
      "source": [
        "all_data.head()"
      ],
      "execution_count": null,
      "outputs": [
        {
          "output_type": "execute_result",
          "data": {
            "text/html": [
              "<div>\n",
              "<style scoped>\n",
              "    .dataframe tbody tr th:only-of-type {\n",
              "        vertical-align: middle;\n",
              "    }\n",
              "\n",
              "    .dataframe tbody tr th {\n",
              "        vertical-align: top;\n",
              "    }\n",
              "\n",
              "    .dataframe thead th {\n",
              "        text-align: right;\n",
              "    }\n",
              "</style>\n",
              "<table border=\"1\" class=\"dataframe\">\n",
              "  <thead>\n",
              "    <tr style=\"text-align: right;\">\n",
              "      <th></th>\n",
              "      <th>ID</th>\n",
              "      <th>Policy Start Date</th>\n",
              "      <th>Policy End Date</th>\n",
              "      <th>Gender</th>\n",
              "      <th>Age</th>\n",
              "      <th>First Transaction Date</th>\n",
              "      <th>No_Pol</th>\n",
              "      <th>Car_Category</th>\n",
              "      <th>Subject_Car_Colour</th>\n",
              "      <th>Subject_Car_Make</th>\n",
              "      <th>LGA_Name</th>\n",
              "      <th>State</th>\n",
              "      <th>ProductName</th>\n",
              "      <th>target</th>\n",
              "      <th>LGA_Name_State</th>\n",
              "      <th>policy_length</th>\n",
              "    </tr>\n",
              "  </thead>\n",
              "  <tbody>\n",
              "    <tr>\n",
              "      <th>0</th>\n",
              "      <td>ID_0040R73</td>\n",
              "      <td>2010-05-14</td>\n",
              "      <td>2011-05-13</td>\n",
              "      <td>Male</td>\n",
              "      <td>30</td>\n",
              "      <td>2010-05-14</td>\n",
              "      <td>1</td>\n",
              "      <td>Saloon</td>\n",
              "      <td>Black</td>\n",
              "      <td>TOYOTA</td>\n",
              "      <td>Victoria Island</td>\n",
              "      <td>Lagos</td>\n",
              "      <td>Car Classic</td>\n",
              "      <td>0.0</td>\n",
              "      <td>Victoria Island_Lagos</td>\n",
              "      <td>11.959178</td>\n",
              "    </tr>\n",
              "    <tr>\n",
              "      <th>1</th>\n",
              "      <td>ID_0046BNK</td>\n",
              "      <td>2010-11-29</td>\n",
              "      <td>2011-11-28</td>\n",
              "      <td>Female</td>\n",
              "      <td>79</td>\n",
              "      <td>2010-11-29</td>\n",
              "      <td>1</td>\n",
              "      <td>JEEP</td>\n",
              "      <td>Grey</td>\n",
              "      <td>TOYOTA</td>\n",
              "      <td>Victoria Island</td>\n",
              "      <td>Lagos</td>\n",
              "      <td>Car Classic</td>\n",
              "      <td>1.0</td>\n",
              "      <td>Victoria Island_Lagos</td>\n",
              "      <td>11.959178</td>\n",
              "    </tr>\n",
              "    <tr>\n",
              "      <th>2</th>\n",
              "      <td>ID_005QMC3</td>\n",
              "      <td>2010-03-21</td>\n",
              "      <td>2011-03-20</td>\n",
              "      <td>Male</td>\n",
              "      <td>43</td>\n",
              "      <td>2010-03-21</td>\n",
              "      <td>1</td>\n",
              "      <td>Saloon</td>\n",
              "      <td>Red</td>\n",
              "      <td>TOYOTA</td>\n",
              "      <td>Victoria Island</td>\n",
              "      <td>Lagos</td>\n",
              "      <td>Car Classic</td>\n",
              "      <td>0.0</td>\n",
              "      <td>Victoria Island_Lagos</td>\n",
              "      <td>11.959178</td>\n",
              "    </tr>\n",
              "    <tr>\n",
              "      <th>3</th>\n",
              "      <td>ID_0079OHW</td>\n",
              "      <td>2010-08-21</td>\n",
              "      <td>2011-08-20</td>\n",
              "      <td>Male</td>\n",
              "      <td>2</td>\n",
              "      <td>2010-08-21</td>\n",
              "      <td>1</td>\n",
              "      <td>Saloon</td>\n",
              "      <td>Black</td>\n",
              "      <td>TOYOTA</td>\n",
              "      <td>Victoria Island</td>\n",
              "      <td>Lagos</td>\n",
              "      <td>CarSafe</td>\n",
              "      <td>0.0</td>\n",
              "      <td>Victoria Island_Lagos</td>\n",
              "      <td>11.959178</td>\n",
              "    </tr>\n",
              "    <tr>\n",
              "      <th>4</th>\n",
              "      <td>ID_00BRP63</td>\n",
              "      <td>2010-08-29</td>\n",
              "      <td>2010-12-31</td>\n",
              "      <td>Other</td>\n",
              "      <td>20</td>\n",
              "      <td>2010-08-29</td>\n",
              "      <td>3</td>\n",
              "      <td>Saloon</td>\n",
              "      <td>Black</td>\n",
              "      <td>TOYOTA</td>\n",
              "      <td>Lagos</td>\n",
              "      <td>Lagos</td>\n",
              "      <td>Muuve</td>\n",
              "      <td>1.0</td>\n",
              "      <td>Lagos_Lagos</td>\n",
              "      <td>4.074006</td>\n",
              "    </tr>\n",
              "  </tbody>\n",
              "</table>\n",
              "</div>"
            ],
            "text/plain": [
              "           ID Policy Start Date  ...         LGA_Name_State policy_length\n",
              "0  ID_0040R73        2010-05-14  ...  Victoria Island_Lagos     11.959178\n",
              "1  ID_0046BNK        2010-11-29  ...  Victoria Island_Lagos     11.959178\n",
              "2  ID_005QMC3        2010-03-21  ...  Victoria Island_Lagos     11.959178\n",
              "3  ID_0079OHW        2010-08-21  ...  Victoria Island_Lagos     11.959178\n",
              "4  ID_00BRP63        2010-08-29  ...            Lagos_Lagos      4.074006\n",
              "\n",
              "[5 rows x 16 columns]"
            ]
          },
          "metadata": {
            "tags": []
          },
          "execution_count": 69
        }
      ]
    },
    {
      "cell_type": "markdown",
      "metadata": {
        "id": "CiIwYHax-NUQ"
      },
      "source": [
        "## Establish Baseline"
      ]
    },
    {
      "cell_type": "code",
      "metadata": {
        "colab": {
          "base_uri": "https://localhost:8080/"
        },
        "id": "4yCI4C-y-NUQ",
        "outputId": "2ee0aedd-7b80-4e47-c10f-d2da001666b6"
      },
      "source": [
        "# Separate train and test data from the combined dataframe\n",
        "train_df = all_data[:ntrain]\n",
        "test_df = all_data[ntrain:]\n",
        "\n",
        "# Check the shapes of the split dataset\n",
        "train_df.shape, test_df.shape"
      ],
      "execution_count": null,
      "outputs": [
        {
          "output_type": "execute_result",
          "data": {
            "text/plain": [
              "((12079, 16), (1202, 16))"
            ]
          },
          "metadata": {
            "tags": []
          },
          "execution_count": 70
        }
      ]
    },
    {
      "cell_type": "code",
      "metadata": {
        "id": "Q2GCD8kJ-nIC"
      },
      "source": [
        "# Select main columns to be used in training\n",
        "main_cols = all_data.columns.difference(['ID', 'target', 'Policy Start Date', 'Policy End Date',\n",
        "                                          'First Transaction Date','LGA_Name', 'State'])\n",
        "\n",
        "\n",
        "X = train_df[main_cols]\n",
        "y = train_df.target\n",
        "\n",
        "for colname in X.select_dtypes([\"category\"]):\n",
        "    X[colname] = X[colname].cat.codes\n",
        "\n",
        "\n",
        "# Standardize\n",
        "#X_scaled = (X - X.mean(axis=0)) / X.std(axis=0)\n",
        "\n",
        "#from sklearn.decomposition import PCA\n",
        "\n",
        "# Create principal components\n",
        "#pca = PCA()\n",
        "#X_pca = pca.fit_transform(X)\n",
        "\n",
        "# Convert to dataframe\n",
        "#component_names = [f\"PC{i+1}\" for i in range(X_pca.shape[1])]\n",
        "#X_pca = pd.DataFrame(X_pca, columns=component_names)\n",
        "\n",
        "#X_pca.head()\n",
        "\n",
        "# Split data into train and test sets\n",
        "from sklearn.model_selection import train_test_split\n",
        "X_train, X_test, y_train, y_test = train_test_split(X,y,test_size=0.25, random_state=42)"
      ],
      "execution_count": null,
      "outputs": []
    },
    {
      "cell_type": "markdown",
      "metadata": {
        "id": "FPDjrReR-tiC"
      },
      "source": [
        "### LGBMClassifier"
      ]
    },
    {
      "cell_type": "code",
      "metadata": {
        "colab": {
          "base_uri": "https://localhost:8080/",
          "height": 296
        },
        "id": "RE8CSGp8-NUR",
        "outputId": "2d401e40-0428-4bf2-ceb2-7aa32ab25fc8"
      },
      "source": [
        "# Train model\n",
        "model_lgbm = LGBMClassifier()\n",
        "model_lgbm.fit(X_train, y_train)\n",
        "\n",
        "# Make predictions\n",
        "y_pred = model_lgbm.predict(X_test)\n",
        "\n",
        "# Check the f1 score of the model\n",
        "print(f'F1 score on the X_test is: {f1_score(y_test, y_pred)}')\n",
        "\n",
        "# Make prediction on the test set\n",
        "test_df = test_df[main_cols]\n",
        "for colname in test_df.select_dtypes([\"category\"]):\n",
        "    test_df[colname] = test_df[colname].cat.codes\n",
        "\n",
        "predictions = model_lgbm.predict(test_df)\n",
        "\n",
        "# Create a submission file\n",
        "sub_file = ss.copy()\n",
        "sub_file.target = predictions\n",
        "\n",
        "# Check the distribution of your predictions\n",
        "sns.countplot(sub_file.target)\n",
        "\n",
        "# Create a csv file and upload to zindi \n",
        "sub_file.to_csv('lgbm_02.csv', index = False)"
      ],
      "execution_count": null,
      "outputs": [
        {
          "output_type": "stream",
          "text": [
            "F1 score on the X_test is: 0.16630196936542668\n"
          ],
          "name": "stdout"
        },
        {
          "output_type": "display_data",
          "data": {
            "image/png": "[encoded data removed]",
            "text/plain": [
              "<Figure size 432x288 with 1 Axes>"
            ]
          },
          "metadata": {
            "tags": [],
            "needs_background": "light"
          }
        }
      ]
    },
    {
      "cell_type": "markdown",
      "metadata": {
        "id": "dl51szDVAfCP"
      },
      "source": [
        "### RandomForestClassifier"
      ]
    },
    {
      "cell_type": "code",
      "metadata": {
        "colab": {
          "base_uri": "https://localhost:8080/",
          "height": 297
        },
        "id": "BgNaqJVR-NUS",
        "outputId": "b09e2705-be18-4e3b-9b66-f51adb5a4c40"
      },
      "source": [
        "# Train model\n",
        "from sklearn.ensemble import RandomForestClassifier\n",
        "model_ranforest = RandomForestClassifier(random_state=42)\n",
        "model_ranforest.fit(X_train, y_train)\n",
        "\n",
        "# Make predictions\n",
        "y_pred = model_ranforest.predict(X_test)\n",
        "\n",
        "# Check the f1 score of the model\n",
        "print(f'F1 score on the X_test is: {f1_score(y_test, y_pred)}')\n",
        "\n",
        "# Make prediction on the test set\n",
        "test_df = test_df[main_cols]\n",
        "for colname in test_df.select_dtypes([\"category\"]):\n",
        "    test_df[colname] = test_df[colname].cat.codes\n",
        "\n",
        "predictions = model_ranforest.predict(test_df)\n",
        "\n",
        "# Create a submission file\n",
        "sub_file = ss.copy()\n",
        "sub_file.target = predictions\n",
        "\n",
        "# Check the distribution of your predictions\n",
        "sns.countplot(sub_file.target)\n",
        "\n",
        "# Create a csv file and upload to zindi \n",
        "sub_file.to_csv('ranforest_00006.csv', index = False)"
      ],
      "execution_count": null,
      "outputs": [
        {
          "output_type": "stream",
          "text": [
            "F1 score on the X_test is: 0.2356687898089172\n"
          ],
          "name": "stdout"
        },
        {
          "output_type": "display_data",
          "data": {
            "image/png": "[encoded data removed]",
            "text/plain": [
              "<Figure size 432x288 with 1 Axes>"
            ]
          },
          "metadata": {
            "tags": [],
            "needs_background": "light"
          }
        }
      ]
    },
    {
      "cell_type": "markdown",
      "metadata": {
        "id": "vp0U0E8pmP5F"
      },
      "source": [
        "#### Random Hyperparameter Grid"
      ]
    },
    {
      "cell_type": "code",
      "metadata": {
        "colab": {
          "base_uri": "https://localhost:8080/"
        },
        "id": "S17XSv7qmWZh",
        "outputId": "759c2d2a-430e-4fa2-d77b-b8836bb3666b"
      },
      "source": [
        "from sklearn.model_selection import RandomizedSearchCV\n",
        "\n",
        "# Number of trees in random forest\n",
        "n_estimators = [int(x) for x in np.linspace(start = 200, stop = 2000, num = 10)]\n",
        "# Number of features to consider at every split\n",
        "max_features = ['auto', 'sqrt']\n",
        "# Maximum number of levels in tree\n",
        "max_depth = [int(x) for x in np.linspace(10, 110, num = 11)]\n",
        "max_depth.append(None)\n",
        "# Minimum number of samples required to split a node\n",
        "min_samples_split = [2, 5, 10]\n",
        "# Minimum number of samples required at each leaf node\n",
        "min_samples_leaf = [1, 2, 4]\n",
        "# Method of selecting samples for training each tree\n",
        "bootstrap = [True, False]\n",
        "# Create the random grid\n",
        "random_grid = {'n_estimators': n_estimators,\n",
        "               'max_features': max_features,\n",
        "               'max_depth': max_depth,\n",
        "               'min_samples_split': min_samples_split,\n",
        "               'min_samples_leaf': min_samples_leaf,\n",
        "               'bootstrap': bootstrap}\n",
        "               \n",
        "print(random_grid)"
      ],
      "execution_count": null,
      "outputs": [
        {
          "output_type": "stream",
          "text": [
            "{'n_estimators': [200, 400, 600, 800, 1000, 1200, 1400, 1600, 1800, 2000], 'max_features': ['auto', 'sqrt'], 'max_depth': [10, 20, 30, 40, 50, 60, 70, 80, 90, 100, 110, None], 'min_samples_split': [2, 5, 10], 'min_samples_leaf': [1, 2, 4], 'bootstrap': [True, False]}\n"
          ],
          "name": "stdout"
        }
      ]
    },
    {
      "cell_type": "code",
      "metadata": {
        "colab": {
          "base_uri": "https://localhost:8080/"
        },
        "id": "OpQArXCBmWXF",
        "outputId": "5be60d94-3d7f-4053-a51f-56d0cdc4c5fe"
      },
      "source": [
        "# Use the random grid to search for best hyperparameters\n",
        "# First create the base model to tune\n",
        "from sklearn.ensemble import RandomForestClassifier\n",
        "rf = RandomForestClassifier()\n",
        "# Random search of parameters, using 3 fold cross validation, \n",
        "# search across 100 different combinations, and use all available cores\n",
        "rf_random = RandomizedSearchCV(estimator = rf, param_distributions = random_grid, n_iter = 100, cv = 3, verbose=2, random_state=42, n_jobs = -1)\n",
        "# Fit the random search model\n",
        "rf_random.fit(X_train, y_train)"
      ],
      "execution_count": null,
      "outputs": [
        {
          "output_type": "stream",
          "text": [
            "Fitting 3 folds for each of 100 candidates, totalling 300 fits\n"
          ],
          "name": "stdout"
        },
        {
          "output_type": "stream",
          "text": [
            "[Parallel(n_jobs=-1)]: Using backend LokyBackend with 2 concurrent workers.\n",
            "[Parallel(n_jobs=-1)]: Done  37 tasks      | elapsed:  3.1min\n",
            "[Parallel(n_jobs=-1)]: Done 158 tasks      | elapsed: 13.5min\n",
            "[Parallel(n_jobs=-1)]: Done 300 out of 300 | elapsed: 24.9min finished\n"
          ],
          "name": "stderr"
        },
        {
          "output_type": "execute_result",
          "data": {
            "text/plain": [
              "RandomizedSearchCV(cv=3, error_score=nan,\n",
              "                   estimator=RandomForestClassifier(bootstrap=True,\n",
              "                                                    ccp_alpha=0.0,\n",
              "                                                    class_weight=None,\n",
              "                                                    criterion='gini',\n",
              "                                                    max_depth=None,\n",
              "                                                    max_features='auto',\n",
              "                                                    max_leaf_nodes=None,\n",
              "                                                    max_samples=None,\n",
              "                                                    min_impurity_decrease=0.0,\n",
              "                                                    min_impurity_split=None,\n",
              "                                                    min_samples_leaf=1,\n",
              "                                                    min_samples_split=2,\n",
              "                                                    min_weight_fraction_leaf=0.0,\n",
              "                                                    n_estimators=100,\n",
              "                                                    n_jobs...\n",
              "                   param_distributions={'bootstrap': [True, False],\n",
              "                                        'max_depth': [10, 20, 30, 40, 50, 60,\n",
              "                                                      70, 80, 90, 100, 110,\n",
              "                                                      None],\n",
              "                                        'max_features': ['auto', 'sqrt'],\n",
              "                                        'min_samples_leaf': [1, 2, 4],\n",
              "                                        'min_samples_split': [2, 5, 10],\n",
              "                                        'n_estimators': [200, 400, 600, 800,\n",
              "                                                         1000, 1200, 1400, 1600,\n",
              "                                                         1800, 2000]},\n",
              "                   pre_dispatch='2*n_jobs', random_state=42, refit=True,\n",
              "                   return_train_score=False, scoring=None, verbose=2)"
            ]
          },
          "metadata": {
            "tags": []
          },
          "execution_count": 77
        }
      ]
    },
    {
      "cell_type": "code",
      "metadata": {
        "colab": {
          "base_uri": "https://localhost:8080/"
        },
        "id": "H60Y3G1EmV8h",
        "outputId": "abf33f58-2fb3-44b7-95a1-daa87f085215"
      },
      "source": [
        "rf_random.best_params_"
      ],
      "execution_count": null,
      "outputs": [
        {
          "output_type": "execute_result",
          "data": {
            "text/plain": [
              "{'bootstrap': True,\n",
              " 'max_depth': 10,\n",
              " 'max_features': 'sqrt',\n",
              " 'min_samples_leaf': 4,\n",
              " 'min_samples_split': 2,\n",
              " 'n_estimators': 1600}"
            ]
          },
          "metadata": {
            "tags": []
          },
          "execution_count": 78
        }
      ]
    },
    {
      "cell_type": "code",
      "metadata": {
        "colab": {
          "base_uri": "https://localhost:8080/",
          "height": 296
        },
        "id": "JRTh8-hAmV5G",
        "outputId": "7edea7ab-b14d-4fb9-d680-45d27b7acf54"
      },
      "source": [
        "# Train model\n",
        "from sklearn.ensemble import RandomForestClassifier\n",
        "model_ranforest = RandomForestClassifier(bootstrap = True,\n",
        "                                         max_depth = 10,\n",
        "                                         max_features = 'sqrt',\n",
        "                                         min_samples_leaf = 4,\n",
        "                                         min_samples_split = 2,\n",
        "                                         n_estimators = 1600,\n",
        "                                         random_state=42)\n",
        "model_ranforest.fit(X_train, y_train)\n",
        "\n",
        "# Make predictions\n",
        "y_pred = model_ranforest.predict(X_test)\n",
        "\n",
        "# Check the f1 score of the model\n",
        "print(f'F1 score on the X_test is: {f1_score(y_test, y_pred)}')\n",
        "\n",
        "# Make prediction on the test set\n",
        "test_df = test_df[main_cols]\n",
        "for colname in test_df.select_dtypes([\"category\"]):\n",
        "    test_df[colname] = test_df[colname].cat.codes\n",
        "\n",
        "predictions = model_ranforest.predict(test_df)\n",
        "\n",
        "# Create a submission file\n",
        "sub_file = ss.copy()\n",
        "sub_file.target = predictions\n",
        "\n",
        "# Check the distribution of your predictions\n",
        "sns.countplot(sub_file.target)\n",
        "\n",
        "# Create a csv file and upload to zindi \n",
        "sub_file.to_csv('ranforest_000010.csv', index = False)"
      ],
      "execution_count": null,
      "outputs": [
        {
          "output_type": "stream",
          "text": [
            "F1 score on the X_test is: 0.11594202898550723\n"
          ],
          "name": "stdout"
        },
        {
          "output_type": "display_data",
          "data": {
            "image/png": "[encoded data removed]",
            "text/plain": [
              "<Figure size 432x288 with 1 Axes>"
            ]
          },
          "metadata": {
            "tags": [],
            "needs_background": "light"
          }
        }
      ]
    },
    {
      "cell_type": "code",
      "metadata": {
        "id": "5iV_MOE4tToA"
      },
      "source": [
        "from sklearn.model_selection import GridSearchCV\n",
        "# Create the parameter grid based on the results of random search \n",
        "param_grid = {\n",
        "    'bootstrap': [True],\n",
        "    'max_depth': [80, 90, 100, 110],\n",
        "    'max_features': [2, 3],\n",
        "    'min_samples_leaf': [3, 4, 5],\n",
        "    'min_samples_split': [8, 10, 12],\n",
        "    'n_estimators': [100, 200, 300, 1000]\n",
        "}\n",
        "# Create a based model\n",
        "rf = RandomForestClassifier()\n",
        "# Instantiate the grid search model\n",
        "grid_search = GridSearchCV(estimator = rf, param_grid = param_grid, \n",
        "                          cv = 3, n_jobs = -1, verbose = 2)"
      ],
      "execution_count": null,
      "outputs": []
    },
    {
      "cell_type": "code",
      "metadata": {
        "colab": {
          "base_uri": "https://localhost:8080/"
        },
        "id": "fGwLPuCftTjB",
        "outputId": "a36c94e7-b8e8-4bb0-f3f7-6be61b3cd22e"
      },
      "source": [
        "# Fit the grid search to the data\n",
        "grid_search.fit(X_train, y_train)\n",
        "\n",
        "grid_search.best_params_"
      ],
      "execution_count": null,
      "outputs": [
        {
          "output_type": "stream",
          "text": [
            "Fitting 3 folds for each of 288 candidates, totalling 864 fits\n"
          ],
          "name": "stdout"
        },
        {
          "output_type": "stream",
          "text": [
            "[Parallel(n_jobs=-1)]: Using backend LokyBackend with 2 concurrent workers.\n",
            "[Parallel(n_jobs=-1)]: Done  37 tasks      | elapsed:   48.4s\n",
            "[Parallel(n_jobs=-1)]: Done 158 tasks      | elapsed:  3.6min\n",
            "[Parallel(n_jobs=-1)]: Done 361 tasks      | elapsed:  8.4min\n",
            "[Parallel(n_jobs=-1)]: Done 644 tasks      | elapsed: 15.2min\n",
            "[Parallel(n_jobs=-1)]: Done 864 out of 864 | elapsed: 20.6min finished\n"
          ],
          "name": "stderr"
        },
        {
          "output_type": "execute_result",
          "data": {
            "text/plain": [
              "{'bootstrap': True,\n",
              " 'max_depth': 90,\n",
              " 'max_features': 2,\n",
              " 'min_samples_leaf': 4,\n",
              " 'min_samples_split': 8,\n",
              " 'n_estimators': 1000}"
            ]
          },
          "metadata": {
            "tags": []
          },
          "execution_count": 83
        }
      ]
    },
    {
      "cell_type": "code",
      "metadata": {
        "colab": {
          "base_uri": "https://localhost:8080/",
          "height": 296
        },
        "id": "sWakiZr8tTeg",
        "outputId": "e2e63478-426e-42f8-f7b5-058bc94abcca"
      },
      "source": [
        "# Train model\n",
        "from sklearn.ensemble import RandomForestClassifier\n",
        "model_ranforest = RandomForestClassifier(bootstrap = True,\n",
        "                                         max_depth = 90,\n",
        "                                         max_features = 2,\n",
        "                                         min_samples_leaf = 4,\n",
        "                                         min_samples_split = 8,\n",
        "                                         n_estimators = 1000)\n",
        "model_ranforest.fit(X_train, y_train)\n",
        "\n",
        "# Make predictions\n",
        "y_pred = model_ranforest.predict(X_test)\n",
        "\n",
        "# Check the f1 score of the model\n",
        "print(f'F1 score on the X_test is: {f1_score(y_test, y_pred)}')\n",
        "\n",
        "# Make prediction on the test set\n",
        "test_df = test_df[main_cols]\n",
        "for colname in test_df.select_dtypes([\"category\"]):\n",
        "    test_df[colname] = test_df[colname].cat.codes\n",
        "\n",
        "predictions = model_ranforest.predict(test_df)\n",
        "\n",
        "# Create a submission file\n",
        "sub_file = ss.copy()\n",
        "sub_file.target = predictions\n",
        "\n",
        "# Check the distribution of your predictions\n",
        "sns.countplot(sub_file.target)\n",
        "\n",
        "# Create a csv file and upload to zindi \n",
        "sub_file.to_csv('ranforest_000011.csv', index = False)"
      ],
      "execution_count": null,
      "outputs": [
        {
          "output_type": "stream",
          "text": [
            "F1 score on the X_test is: 0.11165048543689321\n"
          ],
          "name": "stdout"
        },
        {
          "output_type": "display_data",
          "data": {
            "image/png": "[encoded data removed]",
            "text/plain": [
              "<Figure size 432x288 with 1 Axes>"
            ]
          },
          "metadata": {
            "tags": [],
            "needs_background": "light"
          }
        }
      ]
    },
    {
      "cell_type": "code",
      "metadata": {
        "id": "lwHNUZUCtTbJ"
      },
      "source": [
        ""
      ],
      "execution_count": null,
      "outputs": []
    },
    {
      "cell_type": "code",
      "metadata": {
        "id": "ec3UQ0httTXZ"
      },
      "source": [
        ""
      ],
      "execution_count": null,
      "outputs": []
    },
    {
      "cell_type": "code",
      "metadata": {
        "id": "_lfxOJYZtTTX"
      },
      "source": [
        ""
      ],
      "execution_count": null,
      "outputs": []
    },
    {
      "cell_type": "markdown",
      "metadata": {
        "id": "5L6l24J8Dbvg"
      },
      "source": [
        "### DecisionTreeClassifier"
      ]
    },
    {
      "cell_type": "code",
      "metadata": {
        "colab": {
          "base_uri": "https://localhost:8080/",
          "height": 296
        },
        "id": "KfqZ6P6YDhpt",
        "outputId": "67f7195c-8847-4182-dbcc-4e7219887f75"
      },
      "source": [
        "# Train model\n",
        "from sklearn.tree import DecisionTreeClassifier\n",
        "model_decision_tree = DecisionTreeClassifier()\n",
        "model_decision_tree.fit(X_train, y_train)\n",
        "\n",
        "# Make predictions\n",
        "y_pred = model_decision_tree.predict(X_test)\n",
        "\n",
        "# Check the f1 score of the model\n",
        "print(f'F1 score on the X_test is: {f1_score(y_test, y_pred)}')\n",
        "\n",
        "# Make prediction on the test set\n",
        "test_df = test_df[main_cols]\n",
        "for colname in test_df.select_dtypes([\"category\"]):\n",
        "    test_df[colname] = test_df[colname].cat.codes\n",
        "\n",
        "predictions = model_ranforest.predict(test_df)\n",
        "\n",
        "# Create a submission file\n",
        "sub_file = ss.copy()\n",
        "sub_file.target = predictions\n",
        "\n",
        "# Check the distribution of your predictions\n",
        "sns.countplot(sub_file.target)\n",
        "\n",
        "# Create a csv file and upload to zindi \n",
        "sub_file.to_csv('decision_tree_0001.csv', index = False)"
      ],
      "execution_count": null,
      "outputs": [
        {
          "output_type": "stream",
          "text": [
            "F1 score on the X_test is: 0.22972972972972974\n"
          ],
          "name": "stdout"
        },
        {
          "output_type": "display_data",
          "data": {
            "image/png": "[encoded data removed]",
            "text/plain": [
              "<Figure size 432x288 with 1 Axes>"
            ]
          },
          "metadata": {
            "tags": [],
            "needs_background": "light"
          }
        }
      ]
    },
    {
      "cell_type": "code",
      "metadata": {
        "id": "Rs2c7cXYDhkp"
      },
      "source": [
        ""
      ],
      "execution_count": null,
      "outputs": []
    },
    {
      "cell_type": "code",
      "metadata": {
        "id": "yaSfYGggDhem"
      },
      "source": [
        ""
      ],
      "execution_count": null,
      "outputs": []
    },
    {
      "cell_type": "code",
      "metadata": {
        "id": "JgkFLrKHDhaQ"
      },
      "source": [
        ""
      ],
      "execution_count": null,
      "outputs": []
    },
    {
      "cell_type": "code",
      "metadata": {
        "id": "LIxZNMu-DhK6"
      },
      "source": [
        ""
      ],
      "execution_count": null,
      "outputs": []
    },
    {
      "cell_type": "markdown",
      "metadata": {
        "id": "C04fQjYy-NUZ"
      },
      "source": [
        "# Step 4 - Hyperparameter Tuning\n"
      ]
    },
    {
      "cell_type": "code",
      "metadata": {
        "id": "HJP5QctK-NUa"
      },
      "source": [
        ""
      ],
      "execution_count": null,
      "outputs": []
    }
  ]
}